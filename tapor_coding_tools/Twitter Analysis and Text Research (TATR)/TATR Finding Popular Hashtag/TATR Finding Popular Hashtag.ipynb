{
 "cells": [
  {
   "cell_type": "markdown",
   "metadata": {},
   "source": [
    "# TATR: Finding Hashtag Popularity \n",
    "\n",
    "This notebook is part of a greater series of Jupyter Notebooks structured around Twitter Tweet analysis. This particular notebook will look at finding the most popular hashtag for a given date. This notebook will showcase two main features with the end goal of finding the most popular hashtag by date. The first feature is collapsing all the tokenized hashtags of a date into a larger set. The second feature is to save the \"tokenized list\" into a csv and load it back such that Panda dataframes can still treat this as a list. This notebook will also provide a framework that can be expanded to suit your needs.\n",
    "\n",
    "Any additional assumptions and clarification will be discussed and declared throughout the notebook.\n",
    "\n",
    "### Note: \n",
    "This notebook will use concepts found in the TATR notebook series\n",
    "\n",
    "Written 2018."
   ]
  },
  {
   "cell_type": "markdown",
   "metadata": {},
   "source": [
    "## Import Libraries\n",
    "\n",
    "Now we will import all the Python 3 libraries that will be used in this notebook. You do not need to know all the functionalities of each library as some are massive. However, any functionalities that are used will be explained as they appear, therefore do not worry too much if you do not recognize the libraries. \n",
    "\n",
    "To import or download the required libraries see the Jupyter documentation or the libraries' home page for instruction. \n",
    "\n",
    "### Note: \n",
    "All libraries that are used are available for Anaconda "
   ]
  },
  {
   "cell_type": "code",
   "execution_count": 35,
   "metadata": {},
   "outputs": [],
   "source": [
    "# Importing data structure libraries\n",
    "import pandas as pd\n",
    "import numpy as np\n",
    "\n",
    "# Import text analysis tools\n",
    "import re\n",
    "import nltk\n",
    "from nltk.tokenize import RegexpTokenizer\n",
    "from nltk.tokenize import TweetTokenizer\n",
    "\n",
    "# Import Counter\n",
    "from collections import Counter\n",
    "\n",
    "# Import libraries for loading files\n",
    "import ast\n",
    "\n",
    "# Import graphing tools\n",
    "import matplotlib.pyplot as plt\n",
    "import matplotlib.dates as mdates\n",
    "\n",
    "# Ensure that any graphs produced appear in the notebook (Vital)\n",
    "%matplotlib inline"
   ]
  },
  {
   "cell_type": "markdown",
   "metadata": {},
   "source": [
    "## Setting up some dummy data\n",
    "\n",
    "Similar to before, this notebook will create a small set of dummy data to demostrate. This is to ensure that all those using this notebook have the ability to test out its functionality. However, we will be making some modification and changes to the one made in the the other notebook.\n",
    "\n",
    "### Dummy Panda Dataframe Structure\n",
    "\n",
    "We are going to create 5 sets of 5 entries. Each entry will have 2 values (Date, Hashtag). To find out how to generate these values see TATR Tokenization and Extraction. \n",
    "\n",
    "We will use 1 function to help create the Date\n",
    "* pd.Timestamp(Some date format) : Which turns the input into a date \n",
    "* np.random.randint(range, how many) : Creates a random integer from 0 to range for the declared amount\n",
    "\n",
    "### Note:\n",
    "\n",
    "We will be randomly assigning hashtags to each date. Therefore, it is possible your results will be different each time."
   ]
  },
  {
   "cell_type": "code",
   "execution_count": 36,
   "metadata": {},
   "outputs": [
    {
     "data": {
      "text/html": [
       "<div>\n",
       "<style scoped>\n",
       "    .dataframe tbody tr th:only-of-type {\n",
       "        vertical-align: middle;\n",
       "    }\n",
       "\n",
       "    .dataframe tbody tr th {\n",
       "        vertical-align: top;\n",
       "    }\n",
       "\n",
       "    .dataframe thead th {\n",
       "        text-align: right;\n",
       "    }\n",
       "</style>\n",
       "<table border=\"1\" class=\"dataframe\">\n",
       "  <thead>\n",
       "    <tr style=\"text-align: right;\">\n",
       "      <th></th>\n",
       "      <th>Date</th>\n",
       "      <th>Hashtag</th>\n",
       "    </tr>\n",
       "  </thead>\n",
       "  <tbody>\n",
       "    <tr>\n",
       "      <th>0</th>\n",
       "      <td>2018-01-01</td>\n",
       "      <td>[TwitterApp, New2018]</td>\n",
       "    </tr>\n",
       "    <tr>\n",
       "      <th>1</th>\n",
       "      <td>2018-02-01</td>\n",
       "      <td>[GenericTwitterNews, GenericTwitterNews, Twitter]</td>\n",
       "    </tr>\n",
       "    <tr>\n",
       "      <th>2</th>\n",
       "      <td>2018-03-01</td>\n",
       "      <td>[TwitterApp, JupyterLearning, GenericTwitterNews]</td>\n",
       "    </tr>\n",
       "    <tr>\n",
       "      <th>3</th>\n",
       "      <td>2018-01-01</td>\n",
       "      <td>[]</td>\n",
       "    </tr>\n",
       "    <tr>\n",
       "      <th>4</th>\n",
       "      <td>2018-02-01</td>\n",
       "      <td>[Twitter, Twitter, JupyterLearning, Twitter]</td>\n",
       "    </tr>\n",
       "    <tr>\n",
       "      <th>5</th>\n",
       "      <td>2018-03-01</td>\n",
       "      <td>[]</td>\n",
       "    </tr>\n",
       "    <tr>\n",
       "      <th>6</th>\n",
       "      <td>2018-01-01</td>\n",
       "      <td>[]</td>\n",
       "    </tr>\n",
       "    <tr>\n",
       "      <th>7</th>\n",
       "      <td>2018-02-01</td>\n",
       "      <td>[New2018, New2018, New2018]</td>\n",
       "    </tr>\n",
       "    <tr>\n",
       "      <th>8</th>\n",
       "      <td>2018-03-01</td>\n",
       "      <td>[New2018, Twitter]</td>\n",
       "    </tr>\n",
       "    <tr>\n",
       "      <th>9</th>\n",
       "      <td>2018-01-01</td>\n",
       "      <td>[New2018, Twitter, TwitterApp, GenericTwitterN...</td>\n",
       "    </tr>\n",
       "    <tr>\n",
       "      <th>10</th>\n",
       "      <td>2018-02-01</td>\n",
       "      <td>[GenericTwitterNews, New2018, JupyterLearning]</td>\n",
       "    </tr>\n",
       "    <tr>\n",
       "      <th>11</th>\n",
       "      <td>2018-03-01</td>\n",
       "      <td>[TwitterApp, JupyterLearning, JupyterLearning,...</td>\n",
       "    </tr>\n",
       "    <tr>\n",
       "      <th>12</th>\n",
       "      <td>2018-01-01</td>\n",
       "      <td>[GenericTwitterNews, New2018, Twitter, Generic...</td>\n",
       "    </tr>\n",
       "    <tr>\n",
       "      <th>13</th>\n",
       "      <td>2018-02-01</td>\n",
       "      <td>[]</td>\n",
       "    </tr>\n",
       "    <tr>\n",
       "      <th>14</th>\n",
       "      <td>2018-03-01</td>\n",
       "      <td>[]</td>\n",
       "    </tr>\n",
       "  </tbody>\n",
       "</table>\n",
       "</div>"
      ],
      "text/plain": [
       "         Date                                            Hashtag\n",
       "0  2018-01-01                              [TwitterApp, New2018]\n",
       "1  2018-02-01  [GenericTwitterNews, GenericTwitterNews, Twitter]\n",
       "2  2018-03-01  [TwitterApp, JupyterLearning, GenericTwitterNews]\n",
       "3  2018-01-01                                                 []\n",
       "4  2018-02-01       [Twitter, Twitter, JupyterLearning, Twitter]\n",
       "5  2018-03-01                                                 []\n",
       "6  2018-01-01                                                 []\n",
       "7  2018-02-01                        [New2018, New2018, New2018]\n",
       "8  2018-03-01                                 [New2018, Twitter]\n",
       "9  2018-01-01  [New2018, Twitter, TwitterApp, GenericTwitterN...\n",
       "10 2018-02-01     [GenericTwitterNews, New2018, JupyterLearning]\n",
       "11 2018-03-01  [TwitterApp, JupyterLearning, JupyterLearning,...\n",
       "12 2018-01-01  [GenericTwitterNews, New2018, Twitter, Generic...\n",
       "13 2018-02-01                                                 []\n",
       "14 2018-03-01                                                 []"
      ]
     },
     "execution_count": 36,
     "metadata": {},
     "output_type": "execute_result"
    }
   ],
   "source": [
    "# Set up empty dataframe\n",
    "DummyDataframe = pd.DataFrame(columns=['Date', 'Hashtag'])\n",
    "\n",
    "# Set up 3 different dates\n",
    "dummyDates = [ pd.Timestamp('20180101'),  pd.Timestamp('20180201'),  pd.Timestamp('20180301')]\n",
    "\n",
    "# List of hashtag we are going to use\n",
    "dummyHashtags = [\"Twitter\",\"New2018\", \"JupyterLearning\", \"TwitterApp\", \"GenericTwitterNews\"]\n",
    "\n",
    "# Create 15 entries and assigning a random amount of hashtags to it\n",
    "for i in range(15):\n",
    "    DummyDataframe.loc[i] = [dummyDates[i % 3], [dummyHashtags[np.random.randint(5)] for x in range(np.random.randint(5))] ]\n",
    "    \n",
    "# See what the dataframe looks like\n",
    "DummyDataframe"
   ]
  },
  {
   "cell_type": "markdown",
   "metadata": {},
   "source": [
    "Similar to previous notebooks (TATR: Graphing), we are going to sort the dates to make the data more readable for us. In addition we are going to take all the hashtags of each date and collapse them into a larger list."
   ]
  },
  {
   "cell_type": "code",
   "execution_count": 37,
   "metadata": {},
   "outputs": [
    {
     "data": {
      "text/html": [
       "<div>\n",
       "<style scoped>\n",
       "    .dataframe tbody tr th:only-of-type {\n",
       "        vertical-align: middle;\n",
       "    }\n",
       "\n",
       "    .dataframe tbody tr th {\n",
       "        vertical-align: top;\n",
       "    }\n",
       "\n",
       "    .dataframe thead th {\n",
       "        text-align: right;\n",
       "    }\n",
       "</style>\n",
       "<table border=\"1\" class=\"dataframe\">\n",
       "  <thead>\n",
       "    <tr style=\"text-align: right;\">\n",
       "      <th></th>\n",
       "      <th>Hashtag</th>\n",
       "    </tr>\n",
       "    <tr>\n",
       "      <th>Date</th>\n",
       "      <th></th>\n",
       "    </tr>\n",
       "  </thead>\n",
       "  <tbody>\n",
       "    <tr>\n",
       "      <th>2018-01-01</th>\n",
       "      <td>[TwitterApp, New2018, New2018, Twitter, Twitte...</td>\n",
       "    </tr>\n",
       "    <tr>\n",
       "      <th>2018-02-01</th>\n",
       "      <td>[GenericTwitterNews, GenericTwitterNews, Twitt...</td>\n",
       "    </tr>\n",
       "    <tr>\n",
       "      <th>2018-03-01</th>\n",
       "      <td>[TwitterApp, JupyterLearning, GenericTwitterNe...</td>\n",
       "    </tr>\n",
       "  </tbody>\n",
       "</table>\n",
       "</div>"
      ],
      "text/plain": [
       "                                                      Hashtag\n",
       "Date                                                         \n",
       "2018-01-01  [TwitterApp, New2018, New2018, Twitter, Twitte...\n",
       "2018-02-01  [GenericTwitterNews, GenericTwitterNews, Twitt...\n",
       "2018-03-01  [TwitterApp, JupyterLearning, GenericTwitterNe..."
      ]
     },
     "execution_count": 37,
     "metadata": {},
     "output_type": "execute_result"
    }
   ],
   "source": [
    "# Set index to Date\n",
    "DummyDataframe = DummyDataframe.set_index(\"Date\")\n",
    "\n",
    "# Group by date and then sum (add together) all the hashtag of a single date\n",
    "DummyDataframe = DummyDataframe[[\"Hashtag\"]].groupby('Date').agg({'Hashtag': 'sum'})\n",
    "\n",
    "# Look at the data\n",
    "DummyDataframe"
   ]
  },
  {
   "cell_type": "markdown",
   "metadata": {},
   "source": [
    "As you can see they added together all the individual lists of hashtags into a single list. We can now find out what is the most popular of each date. To do so we are going to first write a function that counts the occurrence of each hashtag. Afterwards, we are going to use Panda's apply and lamda features to change the panda dataframe."
   ]
  },
  {
   "cell_type": "code",
   "execution_count": 38,
   "metadata": {},
   "outputs": [],
   "source": [
    "\"\"\"\n",
    "Helper function to get the most popular hashtag\n",
    "\n",
    ":dataframe     = The dataframe of the data\n",
    ":column        = Columns to be used for the data\n",
    "\"\"\"\n",
    "def most_popular_hashtag(dataframe, column):\n",
    "    \n",
    "    # Calculates what is most popular\n",
    "    popular = max(set(dataframe[column]), key=dataframe[column].count)\n",
    "    \n",
    "    # Assigns the values\n",
    "    dataframe[\"most_popular_hashtag\"] = popular\n",
    "    \n",
    "    return dataframe"
   ]
  },
  {
   "cell_type": "markdown",
   "metadata": {},
   "source": [
    "Now that we declared the function we are going to apply it using Panda apply and lamda feature"
   ]
  },
  {
   "cell_type": "code",
   "execution_count": 39,
   "metadata": {},
   "outputs": [
    {
     "data": {
      "text/html": [
       "<div>\n",
       "<style scoped>\n",
       "    .dataframe tbody tr th:only-of-type {\n",
       "        vertical-align: middle;\n",
       "    }\n",
       "\n",
       "    .dataframe tbody tr th {\n",
       "        vertical-align: top;\n",
       "    }\n",
       "\n",
       "    .dataframe thead th {\n",
       "        text-align: right;\n",
       "    }\n",
       "</style>\n",
       "<table border=\"1\" class=\"dataframe\">\n",
       "  <thead>\n",
       "    <tr style=\"text-align: right;\">\n",
       "      <th></th>\n",
       "      <th>Hashtag</th>\n",
       "      <th>most_popular_hashtag</th>\n",
       "    </tr>\n",
       "    <tr>\n",
       "      <th>Date</th>\n",
       "      <th></th>\n",
       "      <th></th>\n",
       "    </tr>\n",
       "  </thead>\n",
       "  <tbody>\n",
       "    <tr>\n",
       "      <th>2018-01-01</th>\n",
       "      <td>[TwitterApp, New2018, New2018, Twitter, Twitte...</td>\n",
       "      <td>GenericTwitterNews</td>\n",
       "    </tr>\n",
       "    <tr>\n",
       "      <th>2018-02-01</th>\n",
       "      <td>[GenericTwitterNews, GenericTwitterNews, Twitt...</td>\n",
       "      <td>New2018</td>\n",
       "    </tr>\n",
       "    <tr>\n",
       "      <th>2018-03-01</th>\n",
       "      <td>[TwitterApp, JupyterLearning, GenericTwitterNe...</td>\n",
       "      <td>JupyterLearning</td>\n",
       "    </tr>\n",
       "  </tbody>\n",
       "</table>\n",
       "</div>"
      ],
      "text/plain": [
       "                                                      Hashtag  \\\n",
       "Date                                                            \n",
       "2018-01-01  [TwitterApp, New2018, New2018, Twitter, Twitte...   \n",
       "2018-02-01  [GenericTwitterNews, GenericTwitterNews, Twitt...   \n",
       "2018-03-01  [TwitterApp, JupyterLearning, GenericTwitterNe...   \n",
       "\n",
       "           most_popular_hashtag  \n",
       "Date                             \n",
       "2018-01-01   GenericTwitterNews  \n",
       "2018-02-01              New2018  \n",
       "2018-03-01      JupyterLearning  "
      ]
     },
     "execution_count": 39,
     "metadata": {},
     "output_type": "execute_result"
    }
   ],
   "source": [
    "# Now lets save the top most popular word by day into their own column\n",
    "DummyDataframe = DummyDataframe.apply(lambda x: most_popular_hashtag(x, \"Hashtag\"), axis = 1)\n",
    "\n",
    "# Print out the first 5 entry\n",
    "DummyDataframe"
   ]
  },
  {
   "cell_type": "raw",
   "metadata": {},
   "source": [
    "As you can see we now have the most popular hashtag of each date in its own column. However, the results will be different each time (due to the randomization). This can be explained further in different ways. For example, you may want to know how popular the hashtags were (in percent). This can be done by altering the previous functions."
   ]
  },
  {
   "cell_type": "code",
   "execution_count": 40,
   "metadata": {},
   "outputs": [],
   "source": [
    "\"\"\"\n",
    "Helper function to get the most popular hashtag\n",
    "\n",
    ":dataframe     = The dataframe of the data\n",
    ":column        = Columns to be used for the data\n",
    "\"\"\"\n",
    "def most_popular_hashtag_percent(dataframe, column):\n",
    "    \n",
    "    # Calculates what is most popular\n",
    "    popular = max(set(dataframe[column]), key=dataframe[column].count)\n",
    "    \n",
    "    # Assigns the values\n",
    "    dataframe[\"most_popular_hashtag\"] = popular\n",
    "    \n",
    "    # Calculate the percent of the popular hashtag and round it to two decimal place \n",
    "    dataframe[\"popular_hashtag_percent\"] = \"%.2f\" % ((Counter(dataframe[column])[popular] / len(dataframe[column])) * 100)\n",
    "    \n",
    "    return dataframe"
   ]
  },
  {
   "cell_type": "markdown",
   "metadata": {},
   "source": [
    "Now that we declared a new version of the previous function we will see what it looks like."
   ]
  },
  {
   "cell_type": "code",
   "execution_count": 41,
   "metadata": {},
   "outputs": [
    {
     "data": {
      "text/html": [
       "<div>\n",
       "<style scoped>\n",
       "    .dataframe tbody tr th:only-of-type {\n",
       "        vertical-align: middle;\n",
       "    }\n",
       "\n",
       "    .dataframe tbody tr th {\n",
       "        vertical-align: top;\n",
       "    }\n",
       "\n",
       "    .dataframe thead th {\n",
       "        text-align: right;\n",
       "    }\n",
       "</style>\n",
       "<table border=\"1\" class=\"dataframe\">\n",
       "  <thead>\n",
       "    <tr style=\"text-align: right;\">\n",
       "      <th></th>\n",
       "      <th>Hashtag</th>\n",
       "      <th>most_popular_hashtag</th>\n",
       "      <th>popular_hashtag_percent</th>\n",
       "    </tr>\n",
       "    <tr>\n",
       "      <th>Date</th>\n",
       "      <th></th>\n",
       "      <th></th>\n",
       "      <th></th>\n",
       "    </tr>\n",
       "  </thead>\n",
       "  <tbody>\n",
       "    <tr>\n",
       "      <th>2018-01-01</th>\n",
       "      <td>[TwitterApp, New2018, New2018, Twitter, Twitte...</td>\n",
       "      <td>GenericTwitterNews</td>\n",
       "      <td>30.00</td>\n",
       "    </tr>\n",
       "    <tr>\n",
       "      <th>2018-02-01</th>\n",
       "      <td>[GenericTwitterNews, GenericTwitterNews, Twitt...</td>\n",
       "      <td>New2018</td>\n",
       "      <td>30.77</td>\n",
       "    </tr>\n",
       "    <tr>\n",
       "      <th>2018-03-01</th>\n",
       "      <td>[TwitterApp, JupyterLearning, GenericTwitterNe...</td>\n",
       "      <td>JupyterLearning</td>\n",
       "      <td>33.33</td>\n",
       "    </tr>\n",
       "  </tbody>\n",
       "</table>\n",
       "</div>"
      ],
      "text/plain": [
       "                                                      Hashtag  \\\n",
       "Date                                                            \n",
       "2018-01-01  [TwitterApp, New2018, New2018, Twitter, Twitte...   \n",
       "2018-02-01  [GenericTwitterNews, GenericTwitterNews, Twitt...   \n",
       "2018-03-01  [TwitterApp, JupyterLearning, GenericTwitterNe...   \n",
       "\n",
       "           most_popular_hashtag popular_hashtag_percent  \n",
       "Date                                                     \n",
       "2018-01-01   GenericTwitterNews                   30.00  \n",
       "2018-02-01              New2018                   30.77  \n",
       "2018-03-01      JupyterLearning                   33.33  "
      ]
     },
     "execution_count": 41,
     "metadata": {},
     "output_type": "execute_result"
    }
   ],
   "source": [
    "# Let's save the top most popular word by day into their own column\n",
    "DummyDataframe = DummyDataframe.apply(lambda x: most_popular_hashtag_percent(x, \"Hashtag\"), axis = 1)\n",
    "\n",
    "# Print out the first 5 entries\n",
    "DummyDataframe"
   ]
  },
  {
   "cell_type": "markdown",
   "metadata": {},
   "source": [
    "As you can see we now have a percent associated with the most popular hashtag. Giving us more insight on how \"popular\" the most popular hashtag is overall."
   ]
  },
  {
   "cell_type": "markdown",
   "metadata": {},
   "source": [
    "## Saving our results\n",
    "\n",
    "Now that we have our results we want to save what we have done. However, this is different than what was done in previous notebooks. The reason for this is because we have been using \"list\" to store the results. When this is converted into a CSV it will be saved as it appears in the panda dataframe. This is problematic when loading the csv back in. This is because when we are loading the csv the program does \"not know\" that it is suppose to be a \"list\". Therefore, we are going to have to alter the save function made in TATR Panda and CSV of Tweets. We are going to use the same \"save\" function (with a slight modification for index), however we are going to change out the load function.\n",
    "\n",
    "Using the function \"ast.literal_eval\" we can interpret the string of characters as a list. \n",
    "\n",
    "To find out more about this function see:\n",
    "* https://docs.python.org/2/library/ast.html"
   ]
  },
  {
   "cell_type": "code",
   "execution_count": 42,
   "metadata": {},
   "outputs": [],
   "source": [
    "'''\n",
    "Save the dataframe into a file\n",
    "\n",
    ":dataframe: The dataframe that is being saved\n",
    ":name_of_file:    The name of the CSV file you wish to save it as\n",
    ":index: If you want to save the index set to true\n",
    "'''\n",
    "def save_frame_to_CSV(dataframe, name_of_file, index_save):\n",
    "    \n",
    "    print(\"Begin saving dataframe into a csv...\\n\")\n",
    "    \n",
    "    # Attach the CSV file extension to the name\n",
    "    name = name_of_file + \".csv\"\n",
    "    \n",
    "    # Convert the dataframe into a CSV that is separated by commas\n",
    "    # Remove \"index=False\" if you want to save the index\n",
    "    dataframe.to_csv(name, sep=',', encoding='utf-8', index=index_save)\n",
    "    \n",
    "    print(\"Finish and saved into \" + name + \"\\n\")"
   ]
  },
  {
   "cell_type": "code",
   "execution_count": 43,
   "metadata": {},
   "outputs": [],
   "source": [
    "'''\n",
    "Similar to the old load csv file before except this converts the list present in the csv back into list objects to be used\n",
    "Parameters:\n",
    "\n",
    ":dataframe: The dataframe that is being saved\n",
    ":name_of_file:    The name of the CSV file you wish to save it as\n",
    ":csv_file_name   = Name of the file to load\n",
    ":colList         = Which columns that are a list\n",
    "'''\n",
    "def read_CSV_file_convert (csv_file_name, colList, convertList):\n",
    "    \n",
    "    # Create the function to convert to a list\n",
    "    string_to_list = lambda x: ast.literal_eval(str(x))\n",
    "\n",
    "    # Create the converter that will convert all the columns we tell it to back to a list object\n",
    "    conv = {}\n",
    "    \n",
    "    # Assign the converter for each of the columns we want to convert (a.k.a the columns with a list)\n",
    "    for entry in colList:\n",
    "        if entry in convertList:            \n",
    "            conv[entry] = string_to_list\n",
    "\n",
    "    print(\"Loading csv \" + csv_file_name + \"\\n\")\n",
    "    name = csv_file_name + \".csv\"\n",
    "\n",
    "    # Load a specified amount of columns from the csv\n",
    "    return_frame = pd.read_csv(name, usecols = colList, converters=conv)\n",
    "    \n",
    "    print(\"Finish loading csv \" + csv_file_name)\n",
    "    \n",
    "    return return_frame"
   ]
  },
  {
   "cell_type": "markdown",
   "metadata": {},
   "source": [
    "Now that we have defined both functions we are going to save the results we have."
   ]
  },
  {
   "cell_type": "code",
   "execution_count": 44,
   "metadata": {},
   "outputs": [
    {
     "name": "stdout",
     "output_type": "stream",
     "text": [
      "Begin saving dataframe into a csv...\n",
      "\n",
      "Finish and saved into TATR_Finding_Hashtag.csv\n",
      "\n"
     ]
    }
   ],
   "source": [
    "# Save the CSV and the index\n",
    "save_frame_to_CSV(DummyDataframe, \"TATR_Finding_Hashtag\", True)"
   ]
  },
  {
   "cell_type": "code",
   "execution_count": 45,
   "metadata": {},
   "outputs": [
    {
     "name": "stdout",
     "output_type": "stream",
     "text": [
      "Loading csv TATR_Finding_Hashtag\n",
      "\n",
      "Finish loading csv TATR_Finding_Hashtag\n"
     ]
    },
    {
     "data": {
      "text/html": [
       "<div>\n",
       "<style scoped>\n",
       "    .dataframe tbody tr th:only-of-type {\n",
       "        vertical-align: middle;\n",
       "    }\n",
       "\n",
       "    .dataframe tbody tr th {\n",
       "        vertical-align: top;\n",
       "    }\n",
       "\n",
       "    .dataframe thead th {\n",
       "        text-align: right;\n",
       "    }\n",
       "</style>\n",
       "<table border=\"1\" class=\"dataframe\">\n",
       "  <thead>\n",
       "    <tr style=\"text-align: right;\">\n",
       "      <th></th>\n",
       "      <th>Date</th>\n",
       "      <th>Hashtag</th>\n",
       "      <th>most_popular_hashtag</th>\n",
       "      <th>popular_hashtag_percent</th>\n",
       "    </tr>\n",
       "  </thead>\n",
       "  <tbody>\n",
       "    <tr>\n",
       "      <th>0</th>\n",
       "      <td>2018-01-01</td>\n",
       "      <td>[TwitterApp, New2018, New2018, Twitter, Twitte...</td>\n",
       "      <td>GenericTwitterNews</td>\n",
       "      <td>30.00</td>\n",
       "    </tr>\n",
       "    <tr>\n",
       "      <th>1</th>\n",
       "      <td>2018-02-01</td>\n",
       "      <td>[GenericTwitterNews, GenericTwitterNews, Twitt...</td>\n",
       "      <td>New2018</td>\n",
       "      <td>30.77</td>\n",
       "    </tr>\n",
       "    <tr>\n",
       "      <th>2</th>\n",
       "      <td>2018-03-01</td>\n",
       "      <td>[TwitterApp, JupyterLearning, GenericTwitterNe...</td>\n",
       "      <td>JupyterLearning</td>\n",
       "      <td>33.33</td>\n",
       "    </tr>\n",
       "  </tbody>\n",
       "</table>\n",
       "</div>"
      ],
      "text/plain": [
       "         Date                                            Hashtag  \\\n",
       "0  2018-01-01  [TwitterApp, New2018, New2018, Twitter, Twitte...   \n",
       "1  2018-02-01  [GenericTwitterNews, GenericTwitterNews, Twitt...   \n",
       "2  2018-03-01  [TwitterApp, JupyterLearning, GenericTwitterNe...   \n",
       "\n",
       "  most_popular_hashtag  popular_hashtag_percent  \n",
       "0   GenericTwitterNews                    30.00  \n",
       "1              New2018                    30.77  \n",
       "2      JupyterLearning                    33.33  "
      ]
     },
     "execution_count": 45,
     "metadata": {},
     "output_type": "execute_result"
    }
   ],
   "source": [
    "# Load back the dataframe and the column names\n",
    "LoadFrame = read_CSV_file_convert(\"TATR_Finding_Hashtag\",['Date','Hashtag', 'most_popular_hashtag', 'popular_hashtag_percent'],['Hashtag'])\n",
    "\n",
    "# See the dataframe\n",
    "LoadFrame"
   ]
  },
  {
   "cell_type": "markdown",
   "metadata": {},
   "source": [
    "Now that we have loaded the csv back in all that is different from before is that \"Date\" is not the index. This can be easily fixed by setting the \"Date\" column as the index."
   ]
  },
  {
   "cell_type": "code",
   "execution_count": 46,
   "metadata": {},
   "outputs": [
    {
     "data": {
      "text/html": [
       "<div>\n",
       "<style scoped>\n",
       "    .dataframe tbody tr th:only-of-type {\n",
       "        vertical-align: middle;\n",
       "    }\n",
       "\n",
       "    .dataframe tbody tr th {\n",
       "        vertical-align: top;\n",
       "    }\n",
       "\n",
       "    .dataframe thead th {\n",
       "        text-align: right;\n",
       "    }\n",
       "</style>\n",
       "<table border=\"1\" class=\"dataframe\">\n",
       "  <thead>\n",
       "    <tr style=\"text-align: right;\">\n",
       "      <th></th>\n",
       "      <th>Hashtag</th>\n",
       "      <th>most_popular_hashtag</th>\n",
       "      <th>popular_hashtag_percent</th>\n",
       "    </tr>\n",
       "    <tr>\n",
       "      <th>Date</th>\n",
       "      <th></th>\n",
       "      <th></th>\n",
       "      <th></th>\n",
       "    </tr>\n",
       "  </thead>\n",
       "  <tbody>\n",
       "    <tr>\n",
       "      <th>2018-01-01</th>\n",
       "      <td>[TwitterApp, New2018, New2018, Twitter, Twitte...</td>\n",
       "      <td>GenericTwitterNews</td>\n",
       "      <td>30.00</td>\n",
       "    </tr>\n",
       "    <tr>\n",
       "      <th>2018-02-01</th>\n",
       "      <td>[GenericTwitterNews, GenericTwitterNews, Twitt...</td>\n",
       "      <td>New2018</td>\n",
       "      <td>30.77</td>\n",
       "    </tr>\n",
       "    <tr>\n",
       "      <th>2018-03-01</th>\n",
       "      <td>[TwitterApp, JupyterLearning, GenericTwitterNe...</td>\n",
       "      <td>JupyterLearning</td>\n",
       "      <td>33.33</td>\n",
       "    </tr>\n",
       "  </tbody>\n",
       "</table>\n",
       "</div>"
      ],
      "text/plain": [
       "                                                      Hashtag  \\\n",
       "Date                                                            \n",
       "2018-01-01  [TwitterApp, New2018, New2018, Twitter, Twitte...   \n",
       "2018-02-01  [GenericTwitterNews, GenericTwitterNews, Twitt...   \n",
       "2018-03-01  [TwitterApp, JupyterLearning, GenericTwitterNe...   \n",
       "\n",
       "           most_popular_hashtag  popular_hashtag_percent  \n",
       "Date                                                      \n",
       "2018-01-01   GenericTwitterNews                    30.00  \n",
       "2018-02-01              New2018                    30.77  \n",
       "2018-03-01      JupyterLearning                    33.33  "
      ]
     },
     "execution_count": 46,
     "metadata": {},
     "output_type": "execute_result"
    }
   ],
   "source": [
    "# Set Date as the index\n",
    "LoadFrame = LoadFrame.set_index(\"Date\")\n",
    "\n",
    "# See the frame\n",
    "LoadFrame"
   ]
  },
  {
   "cell_type": "markdown",
   "metadata": {},
   "source": [
    "Finally, to see if our dataframe still works we are going to run the algorithm for finding the popular hashtag. This will require us to use a new dataframe to hold the results."
   ]
  },
  {
   "cell_type": "code",
   "execution_count": 47,
   "metadata": {},
   "outputs": [
    {
     "data": {
      "text/html": [
       "<div>\n",
       "<style scoped>\n",
       "    .dataframe tbody tr th:only-of-type {\n",
       "        vertical-align: middle;\n",
       "    }\n",
       "\n",
       "    .dataframe tbody tr th {\n",
       "        vertical-align: top;\n",
       "    }\n",
       "\n",
       "    .dataframe thead th {\n",
       "        text-align: right;\n",
       "    }\n",
       "</style>\n",
       "<table border=\"1\" class=\"dataframe\">\n",
       "  <thead>\n",
       "    <tr style=\"text-align: right;\">\n",
       "      <th></th>\n",
       "      <th>Hashtag</th>\n",
       "      <th>most_popular_hashtag</th>\n",
       "      <th>popular_hashtag_percent</th>\n",
       "    </tr>\n",
       "    <tr>\n",
       "      <th>Date</th>\n",
       "      <th></th>\n",
       "      <th></th>\n",
       "      <th></th>\n",
       "    </tr>\n",
       "  </thead>\n",
       "  <tbody>\n",
       "    <tr>\n",
       "      <th>2018-01-01</th>\n",
       "      <td>[TwitterApp, New2018, New2018, Twitter, Twitte...</td>\n",
       "      <td>GenericTwitterNews</td>\n",
       "      <td>30.00</td>\n",
       "    </tr>\n",
       "    <tr>\n",
       "      <th>2018-02-01</th>\n",
       "      <td>[GenericTwitterNews, GenericTwitterNews, Twitt...</td>\n",
       "      <td>New2018</td>\n",
       "      <td>30.77</td>\n",
       "    </tr>\n",
       "    <tr>\n",
       "      <th>2018-03-01</th>\n",
       "      <td>[TwitterApp, JupyterLearning, GenericTwitterNe...</td>\n",
       "      <td>JupyterLearning</td>\n",
       "      <td>33.33</td>\n",
       "    </tr>\n",
       "  </tbody>\n",
       "</table>\n",
       "</div>"
      ],
      "text/plain": [
       "                                                      Hashtag  \\\n",
       "Date                                                            \n",
       "2018-01-01  [TwitterApp, New2018, New2018, Twitter, Twitte...   \n",
       "2018-02-01  [GenericTwitterNews, GenericTwitterNews, Twitt...   \n",
       "2018-03-01  [TwitterApp, JupyterLearning, GenericTwitterNe...   \n",
       "\n",
       "           most_popular_hashtag popular_hashtag_percent  \n",
       "Date                                                     \n",
       "2018-01-01   GenericTwitterNews                   30.00  \n",
       "2018-02-01              New2018                   30.77  \n",
       "2018-03-01      JupyterLearning                   33.33  "
      ]
     },
     "execution_count": 47,
     "metadata": {},
     "output_type": "execute_result"
    }
   ],
   "source": [
    "# Load in the Loadframe with just the hashtag column and run the most popular hashtag function\n",
    "TestingLoadFrame = LoadFrame[['Hashtag']].apply(lambda x: most_popular_hashtag_percent(x, \"Hashtag\"), axis = 1)\n",
    "\n",
    "# See what it looks like\n",
    "TestingLoadFrame"
   ]
  },
  {
   "cell_type": "markdown",
   "metadata": {},
   "source": [
    "As you can see we have the same results, this means our load function works as intended.\n",
    "\n",
    "This can be further expanded upon by tracking particular hashtags over time. To do this we are going to again write a new function that can count the occurrence of a hashtag. In addition, we will also be using the graphing function form TATR: Graphing to display our results.\n",
    "\n",
    "To begin we will declare the function that counts the occurrence of a hashtag."
   ]
  },
  {
   "cell_type": "code",
   "execution_count": 48,
   "metadata": {},
   "outputs": [],
   "source": [
    "'''\n",
    "Count the occurance of a hashtag\n",
    "\n",
    ":dataframe: The dataframe being used\n",
    ":column:    The column with the list of hashtag\n",
    ":hashtag:   The hashtag that you are looking at\n",
    "'''\n",
    "def countOccurance(dateframe, column, hashtag):\n",
    "    \n",
    "    # Count the amount of hashtags in the list\n",
    "    count = Counter(dateframe[column])\n",
    "    \n",
    "    # Title of the new column\n",
    "    title = \"count_\" + hashtag\n",
    "    \n",
    "    # Store the results\n",
    "    dateframe[title] = count[hashtag]\n",
    "    return dateframe"
   ]
  },
  {
   "cell_type": "markdown",
   "metadata": {},
   "source": [
    "Now that we declared the function it is time to apply it to our dummy data. For this notebook we will look at the dummy hashtag \"New2018\" in the dataframe TestingLoadFrame."
   ]
  },
  {
   "cell_type": "code",
   "execution_count": 49,
   "metadata": {},
   "outputs": [
    {
     "data": {
      "text/html": [
       "<div>\n",
       "<style scoped>\n",
       "    .dataframe tbody tr th:only-of-type {\n",
       "        vertical-align: middle;\n",
       "    }\n",
       "\n",
       "    .dataframe tbody tr th {\n",
       "        vertical-align: top;\n",
       "    }\n",
       "\n",
       "    .dataframe thead th {\n",
       "        text-align: right;\n",
       "    }\n",
       "</style>\n",
       "<table border=\"1\" class=\"dataframe\">\n",
       "  <thead>\n",
       "    <tr style=\"text-align: right;\">\n",
       "      <th></th>\n",
       "      <th>Hashtag</th>\n",
       "      <th>most_popular_hashtag</th>\n",
       "      <th>popular_hashtag_percent</th>\n",
       "      <th>count_New2018</th>\n",
       "    </tr>\n",
       "    <tr>\n",
       "      <th>Date</th>\n",
       "      <th></th>\n",
       "      <th></th>\n",
       "      <th></th>\n",
       "      <th></th>\n",
       "    </tr>\n",
       "  </thead>\n",
       "  <tbody>\n",
       "    <tr>\n",
       "      <th>2018-01-01</th>\n",
       "      <td>[TwitterApp, New2018, New2018, Twitter, Twitte...</td>\n",
       "      <td>GenericTwitterNews</td>\n",
       "      <td>30.00</td>\n",
       "      <td>3</td>\n",
       "    </tr>\n",
       "    <tr>\n",
       "      <th>2018-02-01</th>\n",
       "      <td>[GenericTwitterNews, GenericTwitterNews, Twitt...</td>\n",
       "      <td>New2018</td>\n",
       "      <td>30.77</td>\n",
       "      <td>4</td>\n",
       "    </tr>\n",
       "    <tr>\n",
       "      <th>2018-03-01</th>\n",
       "      <td>[TwitterApp, JupyterLearning, GenericTwitterNe...</td>\n",
       "      <td>JupyterLearning</td>\n",
       "      <td>33.33</td>\n",
       "      <td>2</td>\n",
       "    </tr>\n",
       "  </tbody>\n",
       "</table>\n",
       "</div>"
      ],
      "text/plain": [
       "                                                      Hashtag  \\\n",
       "Date                                                            \n",
       "2018-01-01  [TwitterApp, New2018, New2018, Twitter, Twitte...   \n",
       "2018-02-01  [GenericTwitterNews, GenericTwitterNews, Twitt...   \n",
       "2018-03-01  [TwitterApp, JupyterLearning, GenericTwitterNe...   \n",
       "\n",
       "           most_popular_hashtag popular_hashtag_percent  count_New2018  \n",
       "Date                                                                    \n",
       "2018-01-01   GenericTwitterNews                   30.00              3  \n",
       "2018-02-01              New2018                   30.77              4  \n",
       "2018-03-01      JupyterLearning                   33.33              2  "
      ]
     },
     "execution_count": 49,
     "metadata": {},
     "output_type": "execute_result"
    }
   ],
   "source": [
    "# Acquire count of \"New2018\"\n",
    "TestingLoadFrame = TestingLoadFrame.apply(lambda x: countOccurance(x, \"Hashtag\", \"New2018\"), axis = 1)\n",
    "\n",
    "# Check the dataframe\n",
    "TestingLoadFrame"
   ]
  },
  {
   "cell_type": "markdown",
   "metadata": {},
   "source": [
    "Now we are going to import in the basic graphing function from TATR: Graphing"
   ]
  },
  {
   "cell_type": "code",
   "execution_count": 50,
   "metadata": {},
   "outputs": [],
   "source": [
    "\"\"\"\n",
    "Plot one column of the dataframe\n",
    "\n",
    ":column        = Columns to be used for the data\n",
    ":title         = The title of the graph\n",
    ":date          = The index with the dates (in y-m-d format)\n",
    ":dataframe     = The dataframe of the data\n",
    ":intervalValue = Set intervals for date, larger the number the bigger the interval between date stamp on graph\n",
    ":saveImage     = True to save image, false to skip\n",
    ":fileName      = Name of the save file\n",
    "\"\"\"\n",
    "def basic_plot_generator(column, title, date, dataframe, intervalValue = 1, saveImage=False, fileName = None):\n",
    "    # Plot how many tweets there are over the whole duration\n",
    "    fig,ax = plt.subplots()\n",
    "\n",
    "    # Set title for the graph\n",
    "    fig.suptitle(title, fontsize=\"x-large\")\n",
    "\n",
    "    # Create subplot of Tweet Count over time using a the default 1 month interval\n",
    "    ax.plot(pd.to_datetime(date), dataframe[column], label=column)\n",
    "\n",
    "    # Set the interval to be the default 1 month \n",
    "    ax.xaxis.set_major_locator(mdates.MonthLocator(interval=intervalValue))\n",
    "    \n",
    "    # Set the date format\n",
    "    ax.xaxis.set_major_formatter(mdates.DateFormatter('%Y-%m-%d'))\n",
    "    fig.autofmt_xdate()\n",
    "    \n",
    "    # Calculate the average\n",
    "    countMean = [dataframe[column].mean()]*len(pd.to_datetime(date))\n",
    "    mean_line = ax.plot(pd.to_datetime(date),countMean, label='Average Overall Count', linestyle='--')\n",
    "\n",
    "    # Create a legend for the subplot\n",
    "    legend = ax.legend(loc='upper center', shadow=True)\n",
    "    \n",
    "    # Saving the Plot as an Image\n",
    "    if saveImage:\n",
    "        fig.savefig(fileName)\n",
    "    \n",
    "    # Show Plot\n",
    "    plt.show()"
   ]
  },
  {
   "cell_type": "code",
   "execution_count": 51,
   "metadata": {},
   "outputs": [
    {
     "data": {
      "image/png": "[encoded data removed]",
      "text/plain": [
       "<matplotlib.figure.Figure at 0x1cf3088dcc0>"
      ]
     },
     "metadata": {},
     "output_type": "display_data"
    }
   ],
   "source": [
    "# Plotting TestingLoadFrame new2018 Count\n",
    "basic_plot_generator(\"count_New2018\", \"new2018 Count\" ,TestingLoadFrame.index, TestingLoadFrame,saveImage=True, fileName=\"Count_New2018\")"
   ]
  },
  {
   "cell_type": "markdown",
   "metadata": {},
   "source": [
    "## Conculsion\n",
    "\n",
    "In this notebook we went over how to find the most popular hashtag for each date as well as by how much. This provides useful information as you can now trace what is a popular hashtag in your corpus. There are other functionalities and uses that can be applied to the tokenized hashtags. However, this notebook presents a common analysis. This notebook also showcases how to load back your dataframes that use \"list\", therefore removing the need to recompute the tokens.\n",
    "\n",
    "### Note:\n",
    "\n",
    "This notebook is one of the more advance notebooks in the TATR notebook series."
   ]
  }
 ],
 "metadata": {
  "kernelspec": {
   "display_name": "Python 3",
   "language": "python",
   "name": "python3"
  },
  "language_info": {
   "codemirror_mode": {
    "name": "ipython",
    "version": 3
   },
   "file_extension": ".py",
   "mimetype": "text/x-python",
   "name": "python",
   "nbconvert_exporter": "python",
   "pygments_lexer": "ipython3",
   "version": "3.6.4"
  }
 },
 "nbformat": 4,
 "nbformat_minor": 2
}
