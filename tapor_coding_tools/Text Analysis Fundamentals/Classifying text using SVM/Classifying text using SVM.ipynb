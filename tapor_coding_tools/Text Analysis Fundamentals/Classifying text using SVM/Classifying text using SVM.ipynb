{
 "cells": [
  {
   "cell_type": "markdown",
   "metadata": {},
   "source": [
    "### Text Classification using Support Vector Machines(SVM)\n",
    "\n",
    "In this document, we will use SVM to help to classify sentences using the categories of [20 newsgroups text dataset](http://scikit-learn.org/stable/datasets/twenty_newsgroups.html). \n",
    "Through this evaluation, it will clear that SVM is mode accurate than the naive bayes classifier on this dataset.\n",
    "\n",
    "The initial steps are the same as for the naive bayes classifier: See [Naive Bayes classification on 20newsgroups dataset](https://github.com/ooduor/machine-learning/blob/master/Naive%20Bayes%20classification%20on%2020newsgroups%20dataset%20.ipynb) Notebook."
   ]
  },
  {
   "cell_type": "code",
   "execution_count": 1,
   "metadata": {},
   "outputs": [
    {
     "name": "stdout",
     "output_type": "stream",
     "text": [
      "['alt.atheism', 'comp.graphics', 'sci.med', 'soc.religion.christian']\n"
     ]
    }
   ],
   "source": [
    "from sklearn.datasets import fetch_20newsgroups\n",
    "from sklearn.feature_extraction.text import CountVectorizer\n",
    "from sklearn.feature_extraction.text import TfidfTransformer\n",
    "from sklearn import svm\n",
    "from sklearn import metrics\n",
    "import numpy as np\n",
    "\n",
    "# specify the categories to training with from the list of 20\n",
    "categories = ['alt.atheism', 'soc.religion.christian', 'comp.graphics', 'sci.med']\n",
    "twenty_train = fetch_20newsgroups(subset='train', categories=categories, shuffle=True, random_state=42)\n",
    "print(twenty_train.target_names)"
   ]
  },
  {
   "cell_type": "markdown",
   "metadata": {},
   "source": [
    "#### Retrieve count of training data and turn the text data into vectors of numerical values for statistical analysis"
   ]
  },
  {
   "cell_type": "code",
   "execution_count": 2,
   "metadata": {
    "collapsed": true
   },
   "outputs": [],
   "source": [
    "count_vect = CountVectorizer()\n",
    "X_train_counts = count_vect.fit_transform(twenty_train.data)\n",
    "\n",
    "tfidf_transformer = TfidfTransformer()\n",
    "X_train_tfidf = tfidf_transformer.fit_transform(X_train_counts)"
   ]
  },
  {
   "cell_type": "markdown",
   "metadata": {},
   "source": [
    "#### Testing the model\n",
    "\n",
    "We provide 2 sentences as input to the classifier model and expect the test to satisfy expectations by categorizing them into the correct category. We use [Support Vector Classificaton](http://scikit-learn.org/stable/modules/generated/sklearn.svm.SVC.html#sklearn.svm.SVC)(SVC) strategy. See all [classification strategies](http://scikit-learn.org/stable/modules/svm.html)."
   ]
  },
  {
   "cell_type": "code",
   "execution_count": 3,
   "metadata": {},
   "outputs": [
    {
     "name": "stdout",
     "output_type": "stream",
     "text": [
      "[2 1]\n",
      "Abuse of antibiotics is very common => sci.med\n",
      "OpenGL on the GPU is fast => comp.graphics\n"
     ]
    }
   ],
   "source": [
    "clf = svm.SVC(kernel = 'linear')\n",
    "clf.fit(X_train_tfidf, twenty_train.target)\n",
    "\n",
    "# we will write two sentences to test the model.\n",
    "docs_new = ['Abuse of antibiotics is very common', \n",
    "            'OpenGL on the GPU is fast']\n",
    "X_new_counts = count_vect.transform(docs_new)\n",
    "X_new_tfidf = tfidf_transformer.transform(X_new_counts)\n",
    "\n",
    "# show the category predicted by the model\n",
    "predicted = clf.predict(X_new_tfidf)\n",
    "print(predicted)\n",
    "\n",
    "for doc, category in zip(docs_new, predicted):\n",
    "    print('{} => {}'.format(doc, twenty_train.target_names[category]))"
   ]
  },
  {
   "cell_type": "markdown",
   "metadata": {},
   "source": [
    "### Verify the classification\n",
    "\n",
    "We use [F1 Score](https://en.wikipedia.org/wiki/F1_score) to measure the accuracy of the test. The best and maximum accuracy value is 1.0, the least accuracy being 0."
   ]
  },
  {
   "cell_type": "code",
   "execution_count": 4,
   "metadata": {},
   "outputs": [
    {
     "name": "stdout",
     "output_type": "stream",
     "text": [
      "                        precision    recall  f1-score   support\n",
      "\n",
      "           alt.atheism       0.96      0.83      0.89       319\n",
      "         comp.graphics       0.90      0.96      0.93       389\n",
      "               sci.med       0.94      0.91      0.93       396\n",
      "soc.religion.christian       0.89      0.96      0.93       398\n",
      "\n",
      "           avg / total       0.92      0.92      0.92      1502\n",
      "\n",
      "Accuracy:\t 0.9207723035952063\n"
     ]
    }
   ],
   "source": [
    "# get the test data from test dataset\n",
    "twenty_test = fetch_20newsgroups(\n",
    "    subset='test', \n",
    "    categories=categories, \n",
    "    shuffle=True, \n",
    "    random_state=42\n",
    ")\n",
    "docs_test = twenty_test.data\n",
    "\n",
    "# vectorize test data\n",
    "X_test_counts = count_vect.transform(docs_test)\n",
    "\n",
    "# extract feature of test data\n",
    "X_test_tfidf = tfidf_transformer.transform(X_test_counts)\n",
    "\n",
    "# use the model to predict the category \n",
    "predicted = clf.predict(X_test_tfidf)\n",
    "\n",
    "# get the precision, recall, f1-score and support of this model\n",
    "print(metrics.classification_report(\n",
    "        twenty_test.target, \n",
    "        predicted,target_names=twenty_test.target_names)\n",
    "     )\n",
    "\n",
    "# get the accuracy of the model\n",
    "print(\"Accuracy:\\t {}\".format((np.mean(predicted == twenty_test.target))))"
   ]
  },
  {
   "cell_type": "markdown",
   "metadata": {},
   "source": [
    "#### We can see the accuracy of this text is 0.92."
   ]
  }
 ],
 "metadata": {
  "kernelspec": {
   "display_name": "Python 3",
   "language": "python",
   "name": "python3"
  },
  "language_info": {
   "codemirror_mode": {
    "name": "ipython",
    "version": 3
   },
   "file_extension": ".py",
   "mimetype": "text/x-python",
   "name": "python",
   "nbconvert_exporter": "python",
   "pygments_lexer": "ipython3",
   "version": "3.6.5"
  }
 },
 "nbformat": 4,
 "nbformat_minor": 2
}
