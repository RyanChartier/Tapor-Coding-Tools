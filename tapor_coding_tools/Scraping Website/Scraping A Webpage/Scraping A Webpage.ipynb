{
 "cells": [
  {
   "cell_type": "markdown",
   "metadata": {},
   "source": [
    "# Web Scraping  \n",
    "\n",
    "Webscraping allows you to obtain data from website. This could be new articles, blogs, etc. However not all websites can be scraped or is structured the same. Therefore it is important to know what information you want from a website and seeing if it is possible.\n",
    "\n",
    "To start off, sites that does not embed the information directly into the site will not be scarped by the following code. To find out if the site you are interested in does this, see below.\n",
    "\n",
    "This notebook will use two example to showcase how this can be done. The first will be looking at the different tags located on a Wikipedia page. In this example we will be mostly focusing on the information within the \"paragraph\" tag in Wikipedia. The next example will be using a news article from the New York Times. \n",
    "\n",
    "## Libraries and Resources used\n",
    "\n",
    "-  Python 3\n",
    "-  Beautiful Soup 4 and some of its related libraries \n",
    "-  Request (A simple HTTP library for Python)\n",
    "\n",
    "## Note:\n",
    "\n",
    "For installation of the nessesary resources and libraries refer to their respective home page for installation steps for your operation system.\n",
    "\n",
    "In this tutorial we will be using a hyperlinks from Wikipedia. It is possible when you are viewing this example, there have been changes done to the URL in question. If that is true, this may result in your own implementation of this code to produce different results or throwing an error.\n",
    "\n",
    "Written in September 2018"
   ]
  },
  {
   "cell_type": "markdown",
   "metadata": {},
   "source": [
    "### Importing the requried libaries"
   ]
  },
  {
   "cell_type": "code",
   "execution_count": 1,
   "metadata": {
    "collapsed": true
   },
   "outputs": [],
   "source": [
    "# request handles the URL management\n",
    "import requests\n",
    "\n",
    "# Import the different funtionality from Beautiful Soup and related modules\n",
    "from bs4 import BeautifulSoup"
   ]
  },
  {
   "cell_type": "markdown",
   "metadata": {},
   "source": [
    "### Loading the desired URL\n",
    "\n",
    "Before we move any further, it is important to know if the site you are interested in can be scraped. First open up the site on your preferred browser and press F12 or your browser equivalent (Also called Developer console). This will open up a window that allows you to inspect the website. It should appear somewhere on your screen. \n",
    "\n",
    "For a more detail explaination on what is there see: https://support.airtable.com/hc/en-us/articles/232313848-How-to-open-the-developer-console \n",
    "\n",
    "What is most important here is the button next to \"Inspector\". It has an icon that looks like a square/rectangle with a cursor in the corner. By clicking this we can now look at each element of the webpage. Therefore if you hover your cursor over some aspect of the website you would like you can see a \"tag\" in which it is under. This is important to know as this is where you want to scrap for your information. \n",
    "\n",
    "Alternatively we can look under the \"Inspector\" tab itself. As you hover your mouse over the different section presented it will highlight them on the site. \n",
    "\n",
    "If you cannot find the information you want in either section (if it is there you will see an exact duplicate of the content located in the \"Inspector\" section) that means the site uses some other method to display their content. This means that the following code will not work on that site.\n",
    "\n",
    "For the following example we will be using \n",
    "\n",
    "Wikipedia page: https://en.wikipedia.org/wiki/Web_scraping\n",
    "\n",
    "New York Times: https://www.nytimes.com/2018/09/28/technology/facebook-hack-data-breach.html?action=click&module=Top%20Stories&pgtype=Homepage\n"
   ]
  },
  {
   "cell_type": "code",
   "execution_count": 2,
   "metadata": {
    "collapsed": true
   },
   "outputs": [],
   "source": [
    "# Gets the HTML information about the web page\n",
    "WikiWebPage = requests.get('https://en.wikipedia.org/wiki/Web_scraping')\n",
    "\n",
    "NewsWebPage = requests.get('https://www.nytimes.com/2018/09/28/technology/facebook-hack-data-breach.html?action=click&module=Top%20Stories&pgtype=Homepage')"
   ]
  },
  {
   "cell_type": "markdown",
   "metadata": {},
   "source": [
    "### Creating a Beauitful Soup Object\n",
    "\n",
    "A Beauitful Soup object is a special type of object that allows us to perform a varitity of different operations. This libaray allows us to extract key information/aspects about the page such as tags"
   ]
  },
  {
   "cell_type": "code",
   "execution_count": 3,
   "metadata": {
    "collapsed": true
   },
   "outputs": [],
   "source": [
    "# Here we create a soup object using the text from the webPage we declared eariler\n",
    "# 'html.parser' is used to tell the library that we are parsing a HTML\n",
    "\n",
    "# Wikipedia Soup\n",
    "soupWiki = BeautifulSoup(WikiWebPage.text, 'html.parser')\n",
    "\n",
    "# News Soup\n",
    "soupNews = BeautifulSoup(NewsWebPage.text, 'html.parser')"
   ]
  },
  {
   "cell_type": "markdown",
   "metadata": {},
   "source": [
    "## Tags\n",
    "\n",
    "Website have content that are seperated into different sections or under different \"tags\". Therefore a common place to find content is under the \"paragraph\" or \"< p >\" tag. However this is not the same for every site, but it is a good place to start.\n",
    "\n",
    "To find out more about tags see: https://www.w3schools.com/tags/ "
   ]
  },
  {
   "cell_type": "markdown",
   "metadata": {},
   "source": [
    "### Iterating through Tags (Wikipedia)\n",
    "\n",
    "As you can notice on any Wikipedia page there are hyperlinks that bring you to other pages. When we take a look at the \"< p >\" tags we can see that there is a lot of extra information we may not need for our analysis"
   ]
  },
  {
   "cell_type": "code",
   "execution_count": 4,
   "metadata": {},
   "outputs": [
    {
     "name": "stdout",
     "output_type": "stream",
     "text": [
      "<p><b>Web scraping</b>, <b>web harvesting</b>, or <b>web data extraction</b> is <a href=\"/wiki/Data_scraping\" title=\"Data scraping\">data scraping</a> used for <a href=\"/wiki/Data_extraction\" title=\"Data extraction\">extracting data</a> from <a href=\"/wiki/Website\" title=\"Website\">websites</a>.<sup class=\"reference\" id=\"cite_ref-Boeing2016JPER_1-0\"><a href=\"#cite_note-Boeing2016JPER-1\">[1]</a></sup> Web scraping software may access the World Wide Web directly using the <a href=\"/wiki/Hypertext_Transfer_Protocol\" title=\"Hypertext Transfer Protocol\">Hypertext Transfer Protocol</a>, or through a web browser. While web scraping can be done manually by a software user, the term typically refers to automated processes implemented using a <a href=\"/wiki/Internet_bot\" title=\"Internet bot\">bot</a> or <a href=\"/wiki/Web_crawler\" title=\"Web crawler\">web crawler</a>. It is a form of copying, in which specific data is gathered and copied from the web, typically into a central local <a href=\"/wiki/Database\" title=\"Database\">database</a> or spreadsheet, for later <a href=\"/wiki/Data_retrieval\" title=\"Data retrieval\">retrieval</a> or <a href=\"/wiki/Data_analysis\" title=\"Data analysis\">analysis</a>.\n",
      "</p>\n"
     ]
    }
   ],
   "source": [
    "# Prints the 1st paragraph tag inside the soup object\n",
    "print(soupWiki.p)"
   ]
  },
  {
   "cell_type": "markdown",
   "metadata": {},
   "source": [
    "As you can see inside the \"< p >\" tag there exist more embedded tags such as the \"anchor\" or \"< a >\" tags, etc. Therefore we would like to clean it up such that we are left with just the text and none of additional HTML tag / meta data "
   ]
  },
  {
   "cell_type": "markdown",
   "metadata": {},
   "source": [
    "### Remove Excess HTML tag in Wikipedia page\n",
    "\n",
    "If the goal is to remove all the tags and remove the metadata assoicated with the wikipedia's page. There are many different methods to do this. Therefore what is shown below is just one way to do it."
   ]
  },
  {
   "cell_type": "code",
   "execution_count": 6,
   "metadata": {},
   "outputs": [
    {
     "name": "stdout",
     "output_type": "stream",
     "text": [
      "Web scraping, web harvesting, or web data extraction is data scraping used for extracting data from websites.[1] Web scraping software may access the World Wide Web directly using the Hypertext Transfer Protocol, or through a web browser. While web scraping can be done manually by a software user, the term typically refers to automated processes implemented using a bot or web crawler. It is a form of copying, in which specific data is gathered and copied from the web, typically into a central local database or spreadsheet, for later retrieval or analysis.\n",
      " \n",
      "\n",
      "Web scraping a web page involves fetching it and extracting from it.[1][2] Fetching is the downloading of a page (which a browser does when you view the page). Therefore, web crawling is a main component of web scraping, to fetch pages for later processing. Once fetched, then extraction can take place. The content of a page may be parsed, searched, reformatted, its data copied into a spreadsheet, and so on. Web scrapers typically take something out of a page, to make use of it for another purpose somewhere else. An example would be to find and copy names and phone numbers, or companies and their URLs, to a list (contact scraping).\n",
      " \n",
      "\n",
      "Web scraping is used for contact scraping, and as a component of applications used for web indexing, web mining and data mining, online price change monitoring and price comparison, product review scraping (to watch the competition), gathering real estate listings, weather data monitoring, website change detection, research, tracking online presence and reputation, web mashup and, web data integration.\n",
      " \n",
      "\n",
      "Web pages are built using text-based mark-up languages (HTML and XHTML), and frequently contain a wealth of useful data in text form.  However, most web pages are designed for human end-users and not for ease of automated use. Because of this, tool kits that scrape web content were created. A web scraper is an Application Programming Interface (API) to extract data from a web site. Companies like Amazon AWS and Google provide web scraping tools, services and public data available free of cost to end users.\n",
      " \n",
      "\n",
      "Newer forms of web scraping involve listening to data feeds from web servers.  For example, JSON is commonly used as a transport storage mechanism between the client and the web server.\n",
      " \n",
      "\n",
      "There are methods that some websites use to prevent web scraping, such as detecting and disallowing bots from crawling (viewing) their pages. In response, there are web scraping systems that rely on using techniques in  DOM parsing, computer vision and natural language processing to simulate human browsing to enable gathering web page content for offline parsing.\n",
      " \n",
      "\n",
      "Web scraping is the process of automatically mining data or collecting information from the World Wide Web. It is a field with active developments sharing a common goal with the semantic web vision, an ambitious initiative that still requires breakthroughs in text processing, semantic understanding, artificial intelligence and human-computer interactions. Current web scraping solutions range from the ad-hoc, requiring human effort, to fully automated systems that are able to convert entire web sites into structured information, with limitations.\n",
      " \n",
      "\n",
      "Sometimes even the best web-scraping technology cannot replace a human’s manual examination and copy-and-paste, and sometimes this may be the only workable solution when the websites for scraping explicitly set up barriers to prevent machine automation.\n",
      " \n",
      "\n",
      "A simple yet powerful approach to extract information from web pages can be based on the UNIX grep command or regular expression-matching facilities of programming languages (for instance Perl or Python).\n",
      " \n",
      "\n",
      "Static and dynamic web pages can be retrieved by posting HTTP requests to the remote web server using socket programming.\n",
      " \n",
      "\n",
      "Many websites have large collections of pages generated dynamically from an underlying structured source like a database. Data of the same category are typically encoded into similar pages by a common script or template. In data mining, a program that detects such templates in a particular information source, extracts its content and translates it into a relational form, is called a wrapper. Wrapper generation algorithms assume that input pages of a wrapper induction system conform to a common template and that they can be easily identified in terms of a URL common scheme.[3] Moreover, some semi-structured data query languages, such as XQuery and the HTQL, can be used to parse HTML pages and to retrieve and transform page content.\n",
      " \n",
      "\n"
     ]
    }
   ],
   "source": [
    "# Find all the tags you are want to save\n",
    "# In this example I am only concern with the \"paragraph\", \"list item\" and \"header 1\" tag\n",
    "# If you want everything you can just use \"soup.find_all()\" with nothing declared in the parameters\n",
    "wikiContent = soupWiki.find_all([\"p\"])\n",
    "\n",
    "# Now to check to see the result\n",
    "# Print out all the item to check the result\n",
    "count = 11\n",
    "\n",
    "for item in wikiContent:\n",
    "    # Display on the first 10 results\n",
    "    if count > 0:\n",
    "        # Get the item's text (does not return the metadata)\n",
    "        print(item.get_text() + \" \\n\")\n",
    "        count = count - 1\n",
    "    else:\n",
    "        break\n",
    "    "
   ]
  },
  {
   "cell_type": "markdown",
   "metadata": {},
   "source": [
    "As you can see compared to before this is a lot easier to read and more useful for analysis. By remove all the additional HTML tags and meta data we can now get begin analysis on the text itself. \n",
    "\n",
    "Now that we discussed how to scrap a wikipedia article, we can try to scrap a news artcile."
   ]
  },
  {
   "cell_type": "markdown",
   "metadata": {},
   "source": [
    "### Iterating through Tags (New York Times)\n",
    "\n",
    "Similar to before we are going to look at the paragraph tags in the New York Times Article."
   ]
  },
  {
   "cell_type": "code",
   "execution_count": 7,
   "metadata": {},
   "outputs": [
    {
     "name": "stdout",
     "output_type": "stream",
     "text": [
      "<p>Advertisement</p>\n"
     ]
    }
   ],
   "source": [
    "# Prints the 1st paragraph tag inside the soup object\n",
    "print(soupNews.p)"
   ]
  },
  {
   "cell_type": "markdown",
   "metadata": {},
   "source": [
    "Unlike the wikipedia artcile we don't see too much additional HTML tag in the first paragraph tag. However this may not be the case with all websites you encounter. Therefore it is important to know before hand what content you need and what tag they are under.\n",
    "\n",
    "Again like before we are going to see if we can clean and find all the content located in a paragraph tag. In this example we are going to showcase the first 10 entries. "
   ]
  },
  {
   "cell_type": "code",
   "execution_count": 10,
   "metadata": {},
   "outputs": [
    {
     "name": "stdout",
     "output_type": "stream",
     "text": [
      "Advertisement \n",
      "\n",
      "Supported by \n",
      "\n",
      "By Mike Isaac and Sheera Frenkel \n",
      "\n",
      "SAN FRANCISCO — Facebook, already facing scrutiny over how it handles the private information of its users, said on Friday that an attack on its computer network had exposed the personal information of nearly 50 million users. \n",
      "\n",
      "The breach, which was discovered this week, was the largest in the company’s 14-year history. The attackers exploited a feature in Facebook’s code to gain access to user accounts and potentially take control of them. \n",
      "\n",
      "The news could not have come at a worse time for Facebook. It has been buffeted over the last year by scandal, from revelations that a British analytics firm got access to the private information of up to 87 million users to worries that disinformation on Facebook has affected elections and even led to deaths in several countries. \n",
      "\n",
      "Senior executives have testified several times this year in congressional hearings where some lawmakers suggested that the government will need to step in if the social network is unable to get tighter control of its service. On Friday, regulators and lawmakers quickly seized on the breach to renew calls for more oversight. \n",
      "\n",
      "“This is another sobering indicator that Congress needs to step up and take action to protect the privacy and security of social media users,” Senator Mark Warner, a Democrat from Virginia and one of Facebook’s most vocal critics in Congress, said in a statement. “A full investigation should be swiftly conducted and made public so that we can understand more about what happened.” \n",
      "\n",
      "In the conference call on Friday, Guy Rosen, a vice president of product management at Facebook, declined to say whether the attack could have been coordinated by hackers supported by a nation-state. \n",
      "\n",
      "Three software flaws in Facebook’s systems allowed hackers to break into user accounts, including those of the top executives Mark Zuckerberg and Sheryl Sandberg, according to two people familiar with the investigation but not allowed to discuss it publicly. Once in, the attackers could have gained access to apps like Spotify, Instagram and hundreds of others that give users a way to log into their systems through Facebook. \n",
      "\n",
      "[Read more about what you can do to secure your Facebook account.] \n",
      "\n"
     ]
    }
   ],
   "source": [
    "# Find all the tags you are want to save\n",
    "# In this example I am only concern with the \"paragraph\", \"list item\" and \"header 1\" tag\n",
    "# If you want everything you can just use \"soup.find_all()\" with nothing declared in the parameters\n",
    "NewsContent = soupNews.find_all([\"p\"])\n",
    "\n",
    "# Now to check to see the result\n",
    "# Print out all the item to check the result\n",
    "count = 11\n",
    "\n",
    "for item in NewsContent:\n",
    "    # Display on the first 10 results\n",
    "    if count > 0:\n",
    "        # Get the item's text (does not return the metadata)\n",
    "        print(item.get_text() + \" \\n\")\n",
    "        count = count - 1\n",
    "    else:\n",
    "        break\n",
    "    "
   ]
  },
  {
   "cell_type": "markdown",
   "metadata": {},
   "source": [
    "### Saving into a Text File\n",
    "\n",
    "Now that we have cleaned out all the tags / meta data from the content we can save the result into a text file for later analysis. In the following example we will use the cleaned wikipedia page."
   ]
  },
  {
   "cell_type": "code",
   "execution_count": 6,
   "metadata": {
    "collapsed": true
   },
   "outputs": [],
   "source": [
    "# Open a text file to save it into (if it doesn't exist it will create one)\n",
    "outputfile = open( 'cleanedHTML.txt', 'w' )\n",
    "\n",
    "# For every item we declared eariler in wikiContent\n",
    "for item in wikiContent:\n",
    "    \n",
    "    # Write into the file the text and end it with a \"newline\" \n",
    "    # If you do not have the division between the elements remove the \"+ \" \\n\" inside the bracket\n",
    "    outputfile.write(item.get_text() + \" \\n\")\n",
    "\n",
    "# Close the file\n",
    "outputfile.close()"
   ]
  },
  {
   "cell_type": "markdown",
   "metadata": {},
   "source": [
    "### Conclusion\n",
    "\n",
    "Now you know how to clean a webpage and save the resulting content into text file for future use, we can look into a more indepth method of cleaning. In the sections below will show other methods to clean the HTML. Depending on your needs this may or may not be relavent."
   ]
  },
  {
   "cell_type": "markdown",
   "metadata": {},
   "source": [
    "### Parsing What You Need\n",
    "\n",
    "If you are only concern with all the \"paragraph\" tags in a webpage, there is a method in which we can just extract the \"paragraph\" tags. This is because we don't want to clean what we are not going to use. Therefore in the next few sections we are going to need to import some additional modules to help us do so."
   ]
  },
  {
   "cell_type": "code",
   "execution_count": 11,
   "metadata": {
    "collapsed": true
   },
   "outputs": [],
   "source": [
    "# The additional modules we are going to need\n",
    "from bs4 import SoupStrainer, NavigableString, Tag"
   ]
  },
  {
   "cell_type": "markdown",
   "metadata": {},
   "source": [
    "### Creating A More Filtered Soup Object\n",
    "\n",
    "In this section we are going to show how to create a soup object that only contains one type of tag. To do so we are going to use SoupStrainer (from beautiful soup). In the following examples we are going the wikipedia page as the example site. Here we are going to look at just the \"paragraph\" or \"p\" tag. If you would like to search via other tags just replace the \"p\" in the \"SoupStrainer\""
   ]
  },
  {
   "cell_type": "code",
   "execution_count": 35,
   "metadata": {
    "collapsed": true
   },
   "outputs": [],
   "source": [
    "# Create a parser that looks for one particular tag in the HTML\n",
    "# In this example it is the \"paragraph\" tag\n",
    "only_p_tags = SoupStrainer(\"p\")\n",
    "\n",
    "# This is the basic soup object previously seen\n",
    "ParseSoup = BeautifulSoup(WikiWebPage.text, 'html.parser', parse_only = only_p_tags)"
   ]
  },
  {
   "cell_type": "markdown",
   "metadata": {},
   "source": [
    "### Cleaning the Beautiful Object \n",
    "\n",
    "Now that we have all the \"paragraph\" or \"p\" content saved into a soup object we can manually clean elements we want. This may be important as you may want to leave in certain elements for analysis."
   ]
  },
  {
   "cell_type": "markdown",
   "metadata": {},
   "source": [
    "### Examining the new soup object\n",
    "\n",
    "First lets print out what is contained in \"PraseSoup\" to see what we are working with."
   ]
  },
  {
   "cell_type": "code",
   "execution_count": 36,
   "metadata": {},
   "outputs": [
    {
     "name": "stdout",
     "output_type": "stream",
     "text": [
      "<p><b>Web scraping</b>, <b>web harvesting</b>, or <b>web data extraction</b> is <a href=\"/wiki/Data_scraping\" title=\"Data scraping\">data scraping</a> used for <a href=\"/wiki/Data_extraction\" title=\"Data extraction\">extracting data</a> from <a href=\"/wiki/Website\" title=\"Website\">websites</a>.<sup class=\"reference\" id=\"cite_ref-Boeing2016JPER_1-0\"><a href=\"#cite_note-Boeing2016JPER-1\">[1]</a></sup> Web scraping software may access the World Wide Web directly using the <a href=\"/wiki/Hypertext_Transfer_Protocol\" title=\"Hypertext Transfer Protocol\">Hypertext Transfer Protocol</a>, or through a web browser. While web scraping can be done manually by a software user, the term typically refers to automated processes implemented using a <a href=\"/wiki/Internet_bot\" title=\"Internet bot\">bot</a> or <a href=\"/wiki/Web_crawler\" title=\"Web crawler\">web crawler</a>. It is a form of copying, in which specific data is gathered and copied from the web, typically into a central local <a href=\"/wiki/Database\" title=\"Database\">database</a> or spreadsheet, for later <a href=\"/wiki/Data_retrieval\" title=\"Data retrieval\">retrieval</a> or <a href=\"/wiki/Data_analysis\" title=\"Data analysis\">analysis</a>.\n",
      "</p><p>Web scraping a web page involves fetching it and extracting from it.<sup class=\"reference\" id=\"cite_ref-Boeing2016JPER_1-1\"><a href=\"#cite_note-Boeing2016JPER-1\">[1]</a></sup><sup class=\"reference\" id=\"cite_ref-2\"><a href=\"#cite_note-2\">[2]</a></sup> Fetching is the downloading of a page (which a browser does when you view the page). Therefore, web crawling is a main component of web scraping, to fetch pages for later processing. Once fetched, then extraction can take place. The content of a page may be <a href=\"/wiki/Parsing\" title=\"Parsing\">parsed</a>, searched, reformatted, its data copied into a spreadsheet, and so on. Web scrapers typically take something out of a page, to make use of it for another purpose somewhere else. An example would be to find and copy names and phone numbers, or companies and their URLs, to a list (contact scraping).\n",
      "</p><p>Web scraping is used for <a href=\"/wiki/Contact_scraping\" title=\"Contact scraping\">contact scraping</a>, and as a component of applications used for <a href=\"/wiki/Web_indexing\" title=\"Web indexing\">web indexing</a>, <a href=\"/wiki/Web_mining\" title=\"Web mining\">web mining</a> and <a href=\"/wiki/Data_mining\" title=\"Data mining\">data mining</a>, online price change monitoring and <a href=\"/wiki/Comparison_shopping_website\" title=\"Comparison shopping website\">price comparison</a>, product review scraping (to watch the competition), gathering real estate listings, weather data monitoring, <a href=\"/wiki/Change_detection_and_notification\" title=\"Change detection and notification\">website change detection</a>, research, tracking online presence and reputation, <a class=\"mw-redirect\" href=\"/wiki/Web_mashup\" title=\"Web mashup\">web mashup</a> and, web data integration.\n",
      "</p><p><a href=\"/wiki/Web_page\" title=\"Web page\">Web pages</a> are built using text-based mark-up languages (<a href=\"/wiki/HTML\" title=\"HTML\">HTML</a> and <a href=\"/wiki/XHTML\" title=\"XHTML\">XHTML</a>), and frequently contain a wealth of useful data in text form.  However, most web pages are designed for human <a class=\"mw-redirect\" href=\"/wiki/End-user_(computer_science)\" title=\"End-user (computer science)\">end-users</a> and not for ease of automated use. Because of this, tool kits that scrape web content were created. A web scraper is an <a class=\"mw-redirect\" href=\"/wiki/Application_Programming_Interface\" title=\"Application Programming Interface\">Application Programming Interface</a> (API) to extract data from a web site. Companies like <a class=\"mw-redirect\" href=\"/wiki/Amazon_AWS\" title=\"Amazon AWS\">Amazon AWS</a> and <a href=\"/wiki/Google\" title=\"Google\">Google</a> provide web scraping tools, services and public data available free of cost to end users.\n",
      "</p><p>Newer forms of web scraping involve listening to data feeds from web servers.  For example, <a href=\"/wiki/JSON\" title=\"JSON\">JSON</a> is commonly used as a transport storage mechanism between the client and the web server.\n",
      "</p><p>There are methods that some websites use to prevent web scraping, such as detecting and disallowing bots from crawling (viewing) their pages. In response, there are web scraping systems that rely on using techniques in  <a href=\"/wiki/Document_Object_Model\" title=\"Document Object Model\">DOM</a> parsing, <a href=\"/wiki/Computer_vision\" title=\"Computer vision\">computer vision</a> and <a href=\"/wiki/Natural_language_processing\" title=\"Natural language processing\">natural language processing</a> to simulate human browsing to enable gathering web page content for offline parsing.\n",
      "</p><p>Web scraping is the process of automatically mining data or collecting information from the World Wide Web. It is a field with active developments sharing a common goal with the <a class=\"mw-redirect\" href=\"/wiki/Semantic_web\" title=\"Semantic web\">semantic web</a> vision, an ambitious initiative that still requires breakthroughs in text processing, semantic understanding, artificial intelligence and <a class=\"mw-redirect\" href=\"/wiki/Human-computer_interaction\" title=\"Human-computer interaction\">human-computer interactions</a>. Current web scraping solutions range from the ad-hoc, requiring human effort, to fully automated systems that are able to convert entire web sites into structured information, with limitations.\n",
      "</p><p>Sometimes even the best web-scraping technology cannot replace a human’s manual examination and copy-and-paste, and sometimes this may be the only workable solution when the websites for scraping explicitly set up barriers to prevent machine automation.\n",
      "</p><p>A simple yet powerful approach to extract information from web pages can be based on the UNIX <a href=\"/wiki/Grep\" title=\"Grep\">grep</a> command or <a href=\"/wiki/Regular_expression\" title=\"Regular expression\">regular expression</a>-matching facilities of programming languages (for instance <a href=\"/wiki/Perl\" title=\"Perl\">Perl</a> or <a href=\"/wiki/Python_(programming_language)\" title=\"Python (programming language)\">Python</a>).\n",
      "</p><p><a href=\"/wiki/Static_web_page\" title=\"Static web page\">Static</a> and <a href=\"/wiki/Dynamic_web_page\" title=\"Dynamic web page\">dynamic web pages</a> can be retrieved by posting HTTP requests to the remote web server using <a class=\"mw-redirect\" href=\"/wiki/Socket_programming\" title=\"Socket programming\">socket programming</a>.\n",
      "</p><p>Many websites have large collections of pages generated dynamically from an underlying structured source like a database. Data of the same category are typically encoded into similar pages by a common script or template. In data mining, a program that detects such templates in a particular information source, extracts its content and translates it into a relational form, is called a <a href=\"/wiki/Wrapper_(data_mining)\" title=\"Wrapper (data mining)\">wrapper</a>. Wrapper generation algorithms assume that input pages of a wrapper induction system conform to a common template and that they can be easily identified in terms of a URL common scheme.<sup class=\"reference\" id=\"cite_ref-3\"><a href=\"#cite_note-3\">[3]</a></sup> Moreover, some <a href=\"/wiki/Semi-structured_data\" title=\"Semi-structured data\">semi-structured data</a> query languages, such as <a href=\"/wiki/XQuery\" title=\"XQuery\">XQuery</a> and the HTQL, can be used to parse HTML pages and to retrieve and transform page content.\n",
      "</p><p>By embedding a full-fledged web browser, such as the <a href=\"/wiki/Internet_Explorer\" title=\"Internet Explorer\">Internet Explorer</a> or the <a href=\"/wiki/Mozilla\" title=\"Mozilla\">Mozilla</a> browser control, programs can retrieve the dynamic content generated by client-side scripts. These browser controls also parse web pages into a DOM tree, based on which programs can retrieve parts of the pages.\n",
      "</p><p>There are several companies that have developed vertical specific harvesting platforms. These platforms create and monitor a multitude of “bots” for specific verticals with no \"man in the loop\" (no direct human involvement), and no work related to a specific target site. The preparation involves establishing the knowledge base for the entire vertical and then the platform creates the bots automatically. The platform's robustness is measured by the quality of the information it retrieves (usually number of fields) and its scalability (how quick it can scale up to hundreds or thousands of sites). This scalability is mostly used to target the <a class=\"mw-redirect\" href=\"/wiki/Long_Tail\" title=\"Long Tail\">Long Tail</a> of sites that common aggregators find complicated or too labor-intensive to harvest content from.\n",
      "</p><p>The pages being scraped may embrace <a href=\"/wiki/Metadata\" title=\"Metadata\">metadata</a> or semantic markups and annotations, which can be used to locate specific data snippets. If the annotations are embedded in the pages, as <a href=\"/wiki/Microformat\" title=\"Microformat\">Microformat</a> does, this technique can be viewed as a special case of DOM parsing. In another case, the annotations, organized into a semantic layer,<sup class=\"reference\" id=\"cite_ref-4\"><a href=\"#cite_note-4\">[4]</a></sup> are stored and managed separately from the web pages, so the scrapers can retrieve data schema and instructions from this layer before scraping the pages.\n",
      "</p><p>There are efforts using <a href=\"/wiki/Machine_learning\" title=\"Machine learning\">machine learning</a> and <a href=\"/wiki/Computer_vision\" title=\"Computer vision\">computer vision</a> that attempt to identify and extract information from web pages by interpreting pages visually as a human being might.<sup class=\"reference\" id=\"cite_ref-5\"><a href=\"#cite_note-5\">[5]</a></sup>\n",
      "</p><p>There are many software tools available that can be used to customize web-scraping solutions. This software may attempt to automatically recognize the data structure of a page or provide a recording interface that removes the necessity to manually write web-scraping code, or some scripting functions that can be used to extract and transform content, and database interfaces that can store the scraped data in local databases. Some web scraping software can also be used to extract data from an API directly.\n",
      "</p><p>These can be used to build web scrapers.\n",
      "</p><p>The legality of web scraping varies across the world. In general, web scraping may be against the <a class=\"mw-redirect\" href=\"/wiki/Terms_of_use\" title=\"Terms of use\">terms of use</a> of some websites, but the enforceability of these terms is unclear.<sup class=\"reference\" id=\"cite_ref-6\"><a href=\"#cite_note-6\">[6]</a></sup>\n",
      "</p><p>In the United States, website owners can use three major <a href=\"/wiki/Cause_of_action\" title=\"Cause of action\">legal claims</a> to prevent undesired web scraping: (1) copyright infringement (compilation), (2) violation of the <a href=\"/wiki/Computer_Fraud_and_Abuse_Act\" title=\"Computer Fraud and Abuse Act\">Computer Fraud and Abuse Act</a> (“CFAA”), and (3) <a href=\"/wiki/Trespass_to_chattels\" title=\"Trespass to chattels\">trespass to chattel</a>.<sup class=\"reference\" id=\"cite_ref-7\"><a href=\"#cite_note-7\">[7]</a></sup> However, the effectiveness of these claims relies upon meeting various criteria, and the case law is still evolving. For example, with regard to copyright, while outright duplication of original expression will in many cases be illegal, in the United States the courts ruled in <a href=\"/wiki/Feist_Publications,_Inc.,_v._Rural_Telephone_Service_Co.\" title=\"Feist Publications, Inc., v. Rural Telephone Service Co.\"><i>Feist Publications v. Rural Telephone Service</i></a> that duplication of facts is allowable.\n",
      "</p><p>U.S. courts have acknowledged that users of \"scrapers\" or \"robots\" may be held liable for committing <a href=\"/wiki/Trespass_to_chattels\" title=\"Trespass to chattels\">trespass to chattels</a>,<sup class=\"reference\" id=\"cite_ref-8\"><a href=\"#cite_note-8\">[8]</a></sup><sup class=\"reference\" id=\"cite_ref-9\"><a href=\"#cite_note-9\">[9]</a></sup> which involves a computer system itself being considered personal property upon which the user of a scraper is trespassing. The best known of these cases, <i><a href=\"/wiki/EBay_v._Bidder%27s_Edge\" title=\"EBay v. Bidder's Edge\">eBay v. Bidder's Edge</a></i>, resulted in an injunction ordering Bidder's Edge to stop accessing, collecting, and indexing auctions from the eBay web site. This case involved automatic placing of bids, known as <a href=\"/wiki/Auction_sniping\" title=\"Auction sniping\">auction sniping</a>. However, in order to succeed on a claim of trespass to <a href=\"/wiki/Personal_property\" title=\"Personal property\">chattels</a>, the <a href=\"/wiki/Plaintiff\" title=\"Plaintiff\">plaintiff</a> must demonstrate that the <a href=\"/wiki/Defendant\" title=\"Defendant\">defendant</a> intentionally and without authorization interfered with the plaintiff's possessory interest in the computer system and that the defendant's unauthorized use caused damage to the plaintiff. Not all cases of web spidering brought before the courts have been considered trespass to chattels.<sup class=\"reference\" id=\"cite_ref-10\"><a href=\"#cite_note-10\">[10]</a></sup>\n",
      "</p><p>One of the first major tests of <a class=\"mw-redirect\" href=\"/wiki/Screen_scraping\" title=\"Screen scraping\">screen scraping</a> involved <a href=\"/wiki/American_Airlines\" title=\"American Airlines\">American Airlines</a> (AA), and a firm called FareChase.<sup class=\"reference\" id=\"cite_ref-11\"><a href=\"#cite_note-11\">[11]</a></sup> AA successfully obtained an <a href=\"/wiki/Injunction\" title=\"Injunction\">injunction</a> from a Texas trial court, stopping FareChase from selling software that enables users to compare online fares if the software also searches AA's website. The airline argued that FareChase's websearch software trespassed on AA's servers when it collected the publicly available data. FareChase filed an appeal in March 2003. By June, FareChase and AA agreed to settle and the appeal was dropped.<sup class=\"reference\" id=\"cite_ref-12\"><a href=\"#cite_note-12\">[12]</a></sup>\n",
      "</p><p><a href=\"/wiki/Southwest_Airlines\" title=\"Southwest Airlines\">Southwest Airlines</a> has also challenged screen-scraping practices, and has involved both FareChase and another firm, Outtask, in a legal claim. Southwest Airlines charged that the screen-scraping is Illegal since it is an example of \"Computer Fraud and Abuse\" and has led to \"Damage and Loss\" and \"Unauthorized Access\" of Southwest's site. It also constitutes \"Interference with Business Relations\", \"Trespass\", and \"Harmful Access by Computer\". They also claimed that screen-scraping constitutes what is legally known as \"Misappropriation and Unjust Enrichment\", as well as being a breach of the web site's user agreement. Outtask denied all these claims, claiming that the prevailing law in this case should be <a class=\"mw-redirect\" href=\"/wiki/US_Copyright_law\" title=\"US Copyright law\">US Copyright law</a>, and that under copyright, the pieces of information being scraped would not be subject to copyright protection. Although the cases were never resolved in the <a href=\"/wiki/Supreme_Court_of_the_United_States\" title=\"Supreme Court of the United States\">Supreme Court of the United States</a>, FareChase was eventually shuttered by parent company <a href=\"/wiki/Yahoo!\" title=\"Yahoo!\">Yahoo!</a>, and Outtask was purchased by travel expense company Concur.<sup class=\"reference\" id=\"cite_ref-impervawp2011_13-0\"><a href=\"#cite_note-impervawp2011-13\">[13]</a></sup>\n",
      "In 2012, a startup called 3Taps scraped classified housing ads from Craigslist. Craigslist sent 3Taps a cease-and-desist letter and blocked their IP addresses and later sued, in <i><a class=\"mw-redirect\" href=\"/wiki/Craigslist_v._3Taps\" title=\"Craigslist v. 3Taps\">Craigslist v. 3Taps</a></i>. The court held that the cease-and-desist letter and IP blocking was sufficient for Craigslist to properly claim that 3Taps had violated the <a href=\"/wiki/Computer_Fraud_and_Abuse_Act\" title=\"Computer Fraud and Abuse Act\">Computer Fraud and Abuse Act</a>.\n",
      "</p><p>Although these are early scraping decisions, and the theories of liability are not uniform, it is difficult to ignore a pattern emerging that the courts are prepared to protect proprietary content on commercial sites from uses which are undesirable to the owners of such sites. However, the degree of protection for such content is not settled, and will depend on the type of access made by the scraper, the amount of information accessed and copied, the degree to which the access adversely affects the site owner’s system and the types and manner of prohibitions on such conduct.<sup class=\"reference\" id=\"cite_ref-14\"><a href=\"#cite_note-14\">[14]</a></sup>\n",
      "</p><p>While the law in this area becomes more settled, entities contemplating using scraping programs to access a public web site should also consider whether such action is authorized by reviewing the terms of use and other terms or notices posted on or made available through the site. In a 2010 ruling in the <i><a class=\"mw-redirect\" href=\"/wiki/Cvent,_Inc.\" title=\"Cvent, Inc.\">Cvent, Inc.</a> v. <a href=\"/wiki/Eventbrite\" title=\"Eventbrite\">Eventbrite, Inc.</a></i> In the United States district court for the eastern district of Virginia, the court ruled that the terms of use should be brought to the users' attention In order for a <a href=\"/wiki/Browse_wrap\" title=\"Browse wrap\">browse wrap</a> contract or license to be enforced.<sup class=\"reference\" id=\"cite_ref-15\"><a href=\"#cite_note-15\">[15]</a></sup> In a 2014, filed in the <a href=\"/wiki/United_States_District_Court_for_the_Eastern_District_of_Pennsylvania\" title=\"United States District Court for the Eastern District of Pennsylvania\">United States District Court for the Eastern District of Pennsylvania</a>,<sup class=\"reference\" id=\"cite_ref-16\"><a href=\"#cite_note-16\">[16]</a></sup> e-commerce site <a href=\"/wiki/QVC\" title=\"QVC\">QVC</a> objected to the Pinterest-like shopping aggregator Resultly’s `scraping of QVC’s site for real-time pricing data. QVC alleges that Resultly “excessively crawled” QVC’s retail site (allegedly sending 200-300 search requests to QVC’s website per minute, sometimes to up to 36,000 requests per minute) which caused QVC's site to crash for two days, resulting in lost sales for QVC.<sup class=\"reference\" id=\"cite_ref-17\"><a href=\"#cite_note-17\">[17]</a></sup> QVC's complaint alleges that the defendant disguised its web crawler to mask its source IP address and thus prevented QVC from quickly repairing the problem. This is a particularly interesting scraping case because QVC is seeking damages for the unavailability of their website, which QVC claims was caused by Resultly.\n",
      "</p><p>In the plaintiff's web site during the period of this trial the terms of use link is displayed among all the links of the site, at the bottom of the page as most sites on the internet. This ruling contradicts the Irish ruling described below. The court also rejected the plaintiff's argument that the browse wrap restrictions were enforceable in view of Virginia's adoption of the Uniform Computer Information Transactions Act (UCITA)—a uniform law that many believed was in favor on common browse wrap contracting practices.<sup class=\"reference\" id=\"cite_ref-18\"><a href=\"#cite_note-18\">[18]</a></sup>\n",
      "</p><p>In <i><a href=\"/wiki/Facebook,_Inc._v._Power_Ventures,_Inc.\" title=\"Facebook, Inc. v. Power Ventures, Inc.\">Facebook, Inc. v. Power Ventures, Inc.</a></i>, a district court ruled in 2012 that Power Ventures could not scrape Facebook pages on behalf of a Facebook user. The case is on appeal, and the <a href=\"/wiki/Electronic_Frontier_Foundation\" title=\"Electronic Frontier Foundation\">Electronic Frontier Foundation</a> filed a brief in 2015 asking that it be overturned.<sup class=\"reference\" id=\"cite_ref-19\"><a href=\"#cite_note-19\">[19]</a></sup><sup class=\"reference\" id=\"cite_ref-20\"><a href=\"#cite_note-20\">[20]</a></sup> In <i><a href=\"/wiki/Associated_Press_v._Meltwater_U.S._Holdings,_Inc.\" title=\"Associated Press v. Meltwater U.S. Holdings, Inc.\">Associated Press v. Meltwater U.S. Holdings, Inc.</a></i>, a court in the US held Meltwater liable for scraping and republishing news information from the Associated Press, but a court in the United Kingdom held in favor of Meltwater.\n",
      "</p><p>Internet Archive collects and distributes significant number of publicly available webpages without it is considered to be copyright violation.\n",
      "</p><p>In February 2006, the Danish Maritime and Commercial Court (Copenhagen) ruled that systematic crawling, indexing, and deep linking by portal site ofir.dk of estate site Home.dk does not conflict with Danish law or the database directive of the European Union.<sup class=\"reference\" id=\"cite_ref-21\"><a href=\"#cite_note-21\">[21]</a></sup>\n",
      "</p><p>In a February 2010 case complicated by matters of jurisdiction, Ireland's High Court delivered a verdict that illustrates the <a href=\"/wiki/Inchoate_offense\" title=\"Inchoate offense\">inchoate</a> state of developing case law. In the case of <i>Ryanair Ltd v Billigfluege.de GmbH</i>, Ireland's High Court ruled <a href=\"/wiki/Ryanair\" title=\"Ryanair\">Ryanair's</a> \"click-wrap\" agreement to be legally binding. In contrast to the findings of the United States District Court Eastern District of Virginia and those of the Danish Maritime and Commercial Court, Justice Michael Hanna ruled that the hyperlink to Ryanair's terms and conditions was plainly visible, and that placing the onus on the user to agree to terms and conditions in order to gain access to online services is sufficient to comprise a contractual relationship.\n",
      "<sup class=\"reference\" id=\"cite_ref-22\"><a href=\"#cite_note-22\">[22]</a></sup> The decision is under appeal in Ireland's Supreme Court.<sup class=\"reference\" id=\"cite_ref-23\"><a href=\"#cite_note-23\">[23]</a></sup>\n",
      "</p><p>In Australia, the <a href=\"/wiki/Spam_Act_2003\" title=\"Spam Act 2003\">Spam Act 2003</a> outlaws some forms of web harvesting, although this only applies to email addresses.<sup class=\"reference\" id=\"cite_ref-24\"><a href=\"#cite_note-24\">[24]</a></sup><sup class=\"reference\" id=\"cite_ref-25\"><a href=\"#cite_note-25\">[25]</a></sup>\n",
      "</p><p>The administrator of a website can use various measures to stop or slow a bot. Some techniques include:\n",
      "</p>\n"
     ]
    }
   ],
   "source": [
    "print(ParseSoup)"
   ]
  },
  {
   "cell_type": "markdown",
   "metadata": {},
   "source": [
    "Although we are only looking at content in the paragraph tags, there are still other tags enbedded within it. Now lets see if we can replace all the \"anchor\" or \"a\" tags with a blank space. "
   ]
  },
  {
   "cell_type": "code",
   "execution_count": 37,
   "metadata": {
    "collapsed": true
   },
   "outputs": [],
   "source": [
    "# This code aims to remove all the anchor tags\n",
    "# Iterate through all the anchor tags\n",
    "while True:\n",
    "    \n",
    "    # If there is no more answer we are done\n",
    "    if ParseSoup.a == None:\n",
    "        break\n",
    "        \n",
    "    # If there is no string for the URL just insert a white space\n",
    "    elif ParseSoup.a.string == None:\n",
    "        ParseSoup.a.replace_with(\" \")\n",
    "    \n",
    "    # Replace the anchor tag with the string inside\n",
    "    else:\n",
    "        # Adding spaces before and after the words\n",
    "        newFormat = \" \" + str(ParseSoup.a.string) + \" \"\n",
    "        ParseSoup.a.replace_with(newFormat)"
   ]
  },
  {
   "cell_type": "markdown",
   "metadata": {},
   "source": [
    "The code above replaces all the metadata and information inside the \"anchor\" or \"a\" tag with a \" \" or blank space."
   ]
  },
  {
   "cell_type": "code",
   "execution_count": 39,
   "metadata": {},
   "outputs": [
    {
     "name": "stdout",
     "output_type": "stream",
     "text": [
      "<p><b>Web scraping</b>, <b>web harvesting</b>, or <b>web data extraction</b> is  data scraping  used for  extracting data  from  websites .<sup class=\"reference\" id=\"cite_ref-Boeing2016JPER_1-0\"> [1] </sup> Web scraping software may access the World Wide Web directly using the  Hypertext Transfer Protocol , or through a web browser. While web scraping can be done manually by a software user, the term typically refers to automated processes implemented using a  bot  or  web crawler . It is a form of copying, in which specific data is gathered and copied from the web, typically into a central local  database  or spreadsheet, for later  retrieval  or  analysis .\n",
      "</p><p>Web scraping a web page involves fetching it and extracting from it.<sup class=\"reference\" id=\"cite_ref-Boeing2016JPER_1-1\"> [1] </sup><sup class=\"reference\" id=\"cite_ref-2\"> [2] </sup> Fetching is the downloading of a page (which a browser does when you view the page). Therefore, web crawling is a main component of web scraping, to fetch pages for later processing. Once fetched, then extraction can take place. The content of a page may be  parsed , searched, reformatted, its data copied into a spreadsheet, and so on. Web scrapers typically take something out of a page, to make use of it for another purpose somewhere else. An example would be to find and copy names and phone numbers, or companies and their URLs, to a list (contact scraping).\n",
      "</p><p>Web scraping is used for  contact scraping , and as a component of applications used for  web indexing ,  web mining  and  data mining , online price change monitoring and  price comparison , product review scraping (to watch the competition), gathering real estate listings, weather data monitoring,  website change detection , research, tracking online presence and reputation,  web mashup  and, web data integration.\n",
      "</p><p> Web pages  are built using text-based mark-up languages ( HTML  and  XHTML ), and frequently contain a wealth of useful data in text form.  However, most web pages are designed for human  end-users  and not for ease of automated use. Because of this, tool kits that scrape web content were created. A web scraper is an  Application Programming Interface  (API) to extract data from a web site. Companies like  Amazon AWS  and  Google  provide web scraping tools, services and public data available free of cost to end users.\n",
      "</p><p>Newer forms of web scraping involve listening to data feeds from web servers.  For example,  JSON  is commonly used as a transport storage mechanism between the client and the web server.\n",
      "</p><p>There are methods that some websites use to prevent web scraping, such as detecting and disallowing bots from crawling (viewing) their pages. In response, there are web scraping systems that rely on using techniques in   DOM  parsing,  computer vision  and  natural language processing  to simulate human browsing to enable gathering web page content for offline parsing.\n",
      "</p><p>Web scraping is the process of automatically mining data or collecting information from the World Wide Web. It is a field with active developments sharing a common goal with the  semantic web  vision, an ambitious initiative that still requires breakthroughs in text processing, semantic understanding, artificial intelligence and  human-computer interactions . Current web scraping solutions range from the ad-hoc, requiring human effort, to fully automated systems that are able to convert entire web sites into structured information, with limitations.\n",
      "</p><p>Sometimes even the best web-scraping technology cannot replace a human’s manual examination and copy-and-paste, and sometimes this may be the only workable solution when the websites for scraping explicitly set up barriers to prevent machine automation.\n",
      "</p><p>A simple yet powerful approach to extract information from web pages can be based on the UNIX  grep  command or  regular expression -matching facilities of programming languages (for instance  Perl  or  Python ).\n",
      "</p><p> Static  and  dynamic web pages  can be retrieved by posting HTTP requests to the remote web server using  socket programming .\n",
      "</p><p>Many websites have large collections of pages generated dynamically from an underlying structured source like a database. Data of the same category are typically encoded into similar pages by a common script or template. In data mining, a program that detects such templates in a particular information source, extracts its content and translates it into a relational form, is called a  wrapper . Wrapper generation algorithms assume that input pages of a wrapper induction system conform to a common template and that they can be easily identified in terms of a URL common scheme.<sup class=\"reference\" id=\"cite_ref-3\"> [3] </sup> Moreover, some  semi-structured data  query languages, such as  XQuery  and the HTQL, can be used to parse HTML pages and to retrieve and transform page content.\n",
      "</p><p>By embedding a full-fledged web browser, such as the  Internet Explorer  or the  Mozilla  browser control, programs can retrieve the dynamic content generated by client-side scripts. These browser controls also parse web pages into a DOM tree, based on which programs can retrieve parts of the pages.\n",
      "</p><p>There are several companies that have developed vertical specific harvesting platforms. These platforms create and monitor a multitude of “bots” for specific verticals with no \"man in the loop\" (no direct human involvement), and no work related to a specific target site. The preparation involves establishing the knowledge base for the entire vertical and then the platform creates the bots automatically. The platform's robustness is measured by the quality of the information it retrieves (usually number of fields) and its scalability (how quick it can scale up to hundreds or thousands of sites). This scalability is mostly used to target the  Long Tail  of sites that common aggregators find complicated or too labor-intensive to harvest content from.\n",
      "</p><p>The pages being scraped may embrace  metadata  or semantic markups and annotations, which can be used to locate specific data snippets. If the annotations are embedded in the pages, as  Microformat  does, this technique can be viewed as a special case of DOM parsing. In another case, the annotations, organized into a semantic layer,<sup class=\"reference\" id=\"cite_ref-4\"> [4] </sup> are stored and managed separately from the web pages, so the scrapers can retrieve data schema and instructions from this layer before scraping the pages.\n",
      "</p><p>There are efforts using  machine learning  and  computer vision  that attempt to identify and extract information from web pages by interpreting pages visually as a human being might.<sup class=\"reference\" id=\"cite_ref-5\"> [5] </sup>\n",
      "</p><p>There are many software tools available that can be used to customize web-scraping solutions. This software may attempt to automatically recognize the data structure of a page or provide a recording interface that removes the necessity to manually write web-scraping code, or some scripting functions that can be used to extract and transform content, and database interfaces that can store the scraped data in local databases. Some web scraping software can also be used to extract data from an API directly.\n",
      "</p><p>These can be used to build web scrapers.\n",
      "</p><p>The legality of web scraping varies across the world. In general, web scraping may be against the  terms of use  of some websites, but the enforceability of these terms is unclear.<sup class=\"reference\" id=\"cite_ref-6\"> [6] </sup>\n",
      "</p><p>In the United States, website owners can use three major  legal claims  to prevent undesired web scraping: (1) copyright infringement (compilation), (2) violation of the  Computer Fraud and Abuse Act  (“CFAA”), and (3)  trespass to chattel .<sup class=\"reference\" id=\"cite_ref-7\"> [7] </sup> However, the effectiveness of these claims relies upon meeting various criteria, and the case law is still evolving. For example, with regard to copyright, while outright duplication of original expression will in many cases be illegal, in the United States the courts ruled in  Feist Publications v. Rural Telephone Service  that duplication of facts is allowable.\n",
      "</p><p>U.S. courts have acknowledged that users of \"scrapers\" or \"robots\" may be held liable for committing  trespass to chattels ,<sup class=\"reference\" id=\"cite_ref-8\"> [8] </sup><sup class=\"reference\" id=\"cite_ref-9\"> [9] </sup> which involves a computer system itself being considered personal property upon which the user of a scraper is trespassing. The best known of these cases, <i> eBay v. Bidder's Edge </i>, resulted in an injunction ordering Bidder's Edge to stop accessing, collecting, and indexing auctions from the eBay web site. This case involved automatic placing of bids, known as  auction sniping . However, in order to succeed on a claim of trespass to  chattels , the  plaintiff  must demonstrate that the  defendant  intentionally and without authorization interfered with the plaintiff's possessory interest in the computer system and that the defendant's unauthorized use caused damage to the plaintiff. Not all cases of web spidering brought before the courts have been considered trespass to chattels.<sup class=\"reference\" id=\"cite_ref-10\"> [10] </sup>\n",
      "</p><p>One of the first major tests of  screen scraping  involved  American Airlines  (AA), and a firm called FareChase.<sup class=\"reference\" id=\"cite_ref-11\"> [11] </sup> AA successfully obtained an  injunction  from a Texas trial court, stopping FareChase from selling software that enables users to compare online fares if the software also searches AA's website. The airline argued that FareChase's websearch software trespassed on AA's servers when it collected the publicly available data. FareChase filed an appeal in March 2003. By June, FareChase and AA agreed to settle and the appeal was dropped.<sup class=\"reference\" id=\"cite_ref-12\"> [12] </sup>\n",
      "</p><p> Southwest Airlines  has also challenged screen-scraping practices, and has involved both FareChase and another firm, Outtask, in a legal claim. Southwest Airlines charged that the screen-scraping is Illegal since it is an example of \"Computer Fraud and Abuse\" and has led to \"Damage and Loss\" and \"Unauthorized Access\" of Southwest's site. It also constitutes \"Interference with Business Relations\", \"Trespass\", and \"Harmful Access by Computer\". They also claimed that screen-scraping constitutes what is legally known as \"Misappropriation and Unjust Enrichment\", as well as being a breach of the web site's user agreement. Outtask denied all these claims, claiming that the prevailing law in this case should be  US Copyright law , and that under copyright, the pieces of information being scraped would not be subject to copyright protection. Although the cases were never resolved in the  Supreme Court of the United States , FareChase was eventually shuttered by parent company  Yahoo! , and Outtask was purchased by travel expense company Concur.<sup class=\"reference\" id=\"cite_ref-impervawp2011_13-0\"> [13] </sup>\n",
      "In 2012, a startup called 3Taps scraped classified housing ads from Craigslist. Craigslist sent 3Taps a cease-and-desist letter and blocked their IP addresses and later sued, in <i> Craigslist v. 3Taps </i>. The court held that the cease-and-desist letter and IP blocking was sufficient for Craigslist to properly claim that 3Taps had violated the  Computer Fraud and Abuse Act .\n",
      "</p><p>Although these are early scraping decisions, and the theories of liability are not uniform, it is difficult to ignore a pattern emerging that the courts are prepared to protect proprietary content on commercial sites from uses which are undesirable to the owners of such sites. However, the degree of protection for such content is not settled, and will depend on the type of access made by the scraper, the amount of information accessed and copied, the degree to which the access adversely affects the site owner’s system and the types and manner of prohibitions on such conduct.<sup class=\"reference\" id=\"cite_ref-14\"> [14] </sup>\n",
      "</p><p>While the law in this area becomes more settled, entities contemplating using scraping programs to access a public web site should also consider whether such action is authorized by reviewing the terms of use and other terms or notices posted on or made available through the site. In a 2010 ruling in the <i> Cvent, Inc.  v.  Eventbrite, Inc. </i> In the United States district court for the eastern district of Virginia, the court ruled that the terms of use should be brought to the users' attention In order for a  browse wrap  contract or license to be enforced.<sup class=\"reference\" id=\"cite_ref-15\"> [15] </sup> In a 2014, filed in the  United States District Court for the Eastern District of Pennsylvania ,<sup class=\"reference\" id=\"cite_ref-16\"> [16] </sup> e-commerce site  QVC  objected to the Pinterest-like shopping aggregator Resultly’s `scraping of QVC’s site for real-time pricing data. QVC alleges that Resultly “excessively crawled” QVC’s retail site (allegedly sending 200-300 search requests to QVC’s website per minute, sometimes to up to 36,000 requests per minute) which caused QVC's site to crash for two days, resulting in lost sales for QVC.<sup class=\"reference\" id=\"cite_ref-17\"> [17] </sup> QVC's complaint alleges that the defendant disguised its web crawler to mask its source IP address and thus prevented QVC from quickly repairing the problem. This is a particularly interesting scraping case because QVC is seeking damages for the unavailability of their website, which QVC claims was caused by Resultly.\n",
      "</p><p>In the plaintiff's web site during the period of this trial the terms of use link is displayed among all the links of the site, at the bottom of the page as most sites on the internet. This ruling contradicts the Irish ruling described below. The court also rejected the plaintiff's argument that the browse wrap restrictions were enforceable in view of Virginia's adoption of the Uniform Computer Information Transactions Act (UCITA)—a uniform law that many believed was in favor on common browse wrap contracting practices.<sup class=\"reference\" id=\"cite_ref-18\"> [18] </sup>\n",
      "</p><p>In <i> Facebook, Inc. v. Power Ventures, Inc. </i>, a district court ruled in 2012 that Power Ventures could not scrape Facebook pages on behalf of a Facebook user. The case is on appeal, and the  Electronic Frontier Foundation  filed a brief in 2015 asking that it be overturned.<sup class=\"reference\" id=\"cite_ref-19\"> [19] </sup><sup class=\"reference\" id=\"cite_ref-20\"> [20] </sup> In <i> Associated Press v. Meltwater U.S. Holdings, Inc. </i>, a court in the US held Meltwater liable for scraping and republishing news information from the Associated Press, but a court in the United Kingdom held in favor of Meltwater.\n",
      "</p><p>Internet Archive collects and distributes significant number of publicly available webpages without it is considered to be copyright violation.\n",
      "</p><p>In February 2006, the Danish Maritime and Commercial Court (Copenhagen) ruled that systematic crawling, indexing, and deep linking by portal site ofir.dk of estate site Home.dk does not conflict with Danish law or the database directive of the European Union.<sup class=\"reference\" id=\"cite_ref-21\"> [21] </sup>\n",
      "</p><p>In a February 2010 case complicated by matters of jurisdiction, Ireland's High Court delivered a verdict that illustrates the  inchoate  state of developing case law. In the case of <i>Ryanair Ltd v Billigfluege.de GmbH</i>, Ireland's High Court ruled  Ryanair's  \"click-wrap\" agreement to be legally binding. In contrast to the findings of the United States District Court Eastern District of Virginia and those of the Danish Maritime and Commercial Court, Justice Michael Hanna ruled that the hyperlink to Ryanair's terms and conditions was plainly visible, and that placing the onus on the user to agree to terms and conditions in order to gain access to online services is sufficient to comprise a contractual relationship.\n",
      "<sup class=\"reference\" id=\"cite_ref-22\"> [22] </sup> The decision is under appeal in Ireland's Supreme Court.<sup class=\"reference\" id=\"cite_ref-23\"> [23] </sup>\n",
      "</p><p>In Australia, the  Spam Act 2003  outlaws some forms of web harvesting, although this only applies to email addresses.<sup class=\"reference\" id=\"cite_ref-24\"> [24] </sup><sup class=\"reference\" id=\"cite_ref-25\"> [25] </sup>\n",
      "</p><p>The administrator of a website can use various measures to stop or slow a bot. Some techniques include:\n",
      "</p>\n"
     ]
    }
   ],
   "source": [
    "# Rexamine the ParseSoup object after we remove the \"a\" tags\n",
    "print(ParseSoup)"
   ]
  },
  {
   "cell_type": "markdown",
   "metadata": {},
   "source": [
    "As you can see. Compared to the previous example we have now removed all the \"anchor\" tags that existed. This exact process can be repeated for all other types as well. For example what if we also wanted to remove all the \"b\" tags? All you need to do is replace the \"a\" with a \"b\" whenever you see \"ParseSoup.a\""
   ]
  },
  {
   "cell_type": "code",
   "execution_count": 40,
   "metadata": {
    "collapsed": true
   },
   "outputs": [],
   "source": [
    "while True:\n",
    "    \n",
    "    # If there is no more answer we are done\n",
    "    if ParseSoup.b == None:\n",
    "        break\n",
    "        \n",
    "    # If there is no string for the URL just insert a white space\n",
    "    elif ParseSoup.b.string == None:\n",
    "        ParseSoup.b.replace_with(\" \")\n",
    "    \n",
    "    #Replace the anchor tag with the string inside\n",
    "    else:\n",
    "        #Adding spaces before and after the words\n",
    "        newFormat = \" \" + str(ParseSoup.b.string) + \" \"\n",
    "        ParseSoup.b.replace_with(newFormat)"
   ]
  },
  {
   "cell_type": "code",
   "execution_count": 41,
   "metadata": {},
   "outputs": [
    {
     "name": "stdout",
     "output_type": "stream",
     "text": [
      "<p> Web scraping ,  web harvesting , or  web data extraction  is  data scraping  used for  extracting data  from  websites .<sup class=\"reference\" id=\"cite_ref-Boeing2016JPER_1-0\"> [1] </sup> Web scraping software may access the World Wide Web directly using the  Hypertext Transfer Protocol , or through a web browser. While web scraping can be done manually by a software user, the term typically refers to automated processes implemented using a  bot  or  web crawler . It is a form of copying, in which specific data is gathered and copied from the web, typically into a central local  database  or spreadsheet, for later  retrieval  or  analysis .\n",
      "</p><p>Web scraping a web page involves fetching it and extracting from it.<sup class=\"reference\" id=\"cite_ref-Boeing2016JPER_1-1\"> [1] </sup><sup class=\"reference\" id=\"cite_ref-2\"> [2] </sup> Fetching is the downloading of a page (which a browser does when you view the page). Therefore, web crawling is a main component of web scraping, to fetch pages for later processing. Once fetched, then extraction can take place. The content of a page may be  parsed , searched, reformatted, its data copied into a spreadsheet, and so on. Web scrapers typically take something out of a page, to make use of it for another purpose somewhere else. An example would be to find and copy names and phone numbers, or companies and their URLs, to a list (contact scraping).\n",
      "</p><p>Web scraping is used for  contact scraping , and as a component of applications used for  web indexing ,  web mining  and  data mining , online price change monitoring and  price comparison , product review scraping (to watch the competition), gathering real estate listings, weather data monitoring,  website change detection , research, tracking online presence and reputation,  web mashup  and, web data integration.\n",
      "</p><p> Web pages  are built using text-based mark-up languages ( HTML  and  XHTML ), and frequently contain a wealth of useful data in text form.  However, most web pages are designed for human  end-users  and not for ease of automated use. Because of this, tool kits that scrape web content were created. A web scraper is an  Application Programming Interface  (API) to extract data from a web site. Companies like  Amazon AWS  and  Google  provide web scraping tools, services and public data available free of cost to end users.\n",
      "</p><p>Newer forms of web scraping involve listening to data feeds from web servers.  For example,  JSON  is commonly used as a transport storage mechanism between the client and the web server.\n",
      "</p><p>There are methods that some websites use to prevent web scraping, such as detecting and disallowing bots from crawling (viewing) their pages. In response, there are web scraping systems that rely on using techniques in   DOM  parsing,  computer vision  and  natural language processing  to simulate human browsing to enable gathering web page content for offline parsing.\n",
      "</p><p>Web scraping is the process of automatically mining data or collecting information from the World Wide Web. It is a field with active developments sharing a common goal with the  semantic web  vision, an ambitious initiative that still requires breakthroughs in text processing, semantic understanding, artificial intelligence and  human-computer interactions . Current web scraping solutions range from the ad-hoc, requiring human effort, to fully automated systems that are able to convert entire web sites into structured information, with limitations.\n",
      "</p><p>Sometimes even the best web-scraping technology cannot replace a human’s manual examination and copy-and-paste, and sometimes this may be the only workable solution when the websites for scraping explicitly set up barriers to prevent machine automation.\n",
      "</p><p>A simple yet powerful approach to extract information from web pages can be based on the UNIX  grep  command or  regular expression -matching facilities of programming languages (for instance  Perl  or  Python ).\n",
      "</p><p> Static  and  dynamic web pages  can be retrieved by posting HTTP requests to the remote web server using  socket programming .\n",
      "</p><p>Many websites have large collections of pages generated dynamically from an underlying structured source like a database. Data of the same category are typically encoded into similar pages by a common script or template. In data mining, a program that detects such templates in a particular information source, extracts its content and translates it into a relational form, is called a  wrapper . Wrapper generation algorithms assume that input pages of a wrapper induction system conform to a common template and that they can be easily identified in terms of a URL common scheme.<sup class=\"reference\" id=\"cite_ref-3\"> [3] </sup> Moreover, some  semi-structured data  query languages, such as  XQuery  and the HTQL, can be used to parse HTML pages and to retrieve and transform page content.\n",
      "</p><p>By embedding a full-fledged web browser, such as the  Internet Explorer  or the  Mozilla  browser control, programs can retrieve the dynamic content generated by client-side scripts. These browser controls also parse web pages into a DOM tree, based on which programs can retrieve parts of the pages.\n",
      "</p><p>There are several companies that have developed vertical specific harvesting platforms. These platforms create and monitor a multitude of “bots” for specific verticals with no \"man in the loop\" (no direct human involvement), and no work related to a specific target site. The preparation involves establishing the knowledge base for the entire vertical and then the platform creates the bots automatically. The platform's robustness is measured by the quality of the information it retrieves (usually number of fields) and its scalability (how quick it can scale up to hundreds or thousands of sites). This scalability is mostly used to target the  Long Tail  of sites that common aggregators find complicated or too labor-intensive to harvest content from.\n",
      "</p><p>The pages being scraped may embrace  metadata  or semantic markups and annotations, which can be used to locate specific data snippets. If the annotations are embedded in the pages, as  Microformat  does, this technique can be viewed as a special case of DOM parsing. In another case, the annotations, organized into a semantic layer,<sup class=\"reference\" id=\"cite_ref-4\"> [4] </sup> are stored and managed separately from the web pages, so the scrapers can retrieve data schema and instructions from this layer before scraping the pages.\n",
      "</p><p>There are efforts using  machine learning  and  computer vision  that attempt to identify and extract information from web pages by interpreting pages visually as a human being might.<sup class=\"reference\" id=\"cite_ref-5\"> [5] </sup>\n",
      "</p><p>There are many software tools available that can be used to customize web-scraping solutions. This software may attempt to automatically recognize the data structure of a page or provide a recording interface that removes the necessity to manually write web-scraping code, or some scripting functions that can be used to extract and transform content, and database interfaces that can store the scraped data in local databases. Some web scraping software can also be used to extract data from an API directly.\n",
      "</p><p>These can be used to build web scrapers.\n",
      "</p><p>The legality of web scraping varies across the world. In general, web scraping may be against the  terms of use  of some websites, but the enforceability of these terms is unclear.<sup class=\"reference\" id=\"cite_ref-6\"> [6] </sup>\n",
      "</p><p>In the United States, website owners can use three major  legal claims  to prevent undesired web scraping: (1) copyright infringement (compilation), (2) violation of the  Computer Fraud and Abuse Act  (“CFAA”), and (3)  trespass to chattel .<sup class=\"reference\" id=\"cite_ref-7\"> [7] </sup> However, the effectiveness of these claims relies upon meeting various criteria, and the case law is still evolving. For example, with regard to copyright, while outright duplication of original expression will in many cases be illegal, in the United States the courts ruled in  Feist Publications v. Rural Telephone Service  that duplication of facts is allowable.\n",
      "</p><p>U.S. courts have acknowledged that users of \"scrapers\" or \"robots\" may be held liable for committing  trespass to chattels ,<sup class=\"reference\" id=\"cite_ref-8\"> [8] </sup><sup class=\"reference\" id=\"cite_ref-9\"> [9] </sup> which involves a computer system itself being considered personal property upon which the user of a scraper is trespassing. The best known of these cases, <i> eBay v. Bidder's Edge </i>, resulted in an injunction ordering Bidder's Edge to stop accessing, collecting, and indexing auctions from the eBay web site. This case involved automatic placing of bids, known as  auction sniping . However, in order to succeed on a claim of trespass to  chattels , the  plaintiff  must demonstrate that the  defendant  intentionally and without authorization interfered with the plaintiff's possessory interest in the computer system and that the defendant's unauthorized use caused damage to the plaintiff. Not all cases of web spidering brought before the courts have been considered trespass to chattels.<sup class=\"reference\" id=\"cite_ref-10\"> [10] </sup>\n",
      "</p><p>One of the first major tests of  screen scraping  involved  American Airlines  (AA), and a firm called FareChase.<sup class=\"reference\" id=\"cite_ref-11\"> [11] </sup> AA successfully obtained an  injunction  from a Texas trial court, stopping FareChase from selling software that enables users to compare online fares if the software also searches AA's website. The airline argued that FareChase's websearch software trespassed on AA's servers when it collected the publicly available data. FareChase filed an appeal in March 2003. By June, FareChase and AA agreed to settle and the appeal was dropped.<sup class=\"reference\" id=\"cite_ref-12\"> [12] </sup>\n",
      "</p><p> Southwest Airlines  has also challenged screen-scraping practices, and has involved both FareChase and another firm, Outtask, in a legal claim. Southwest Airlines charged that the screen-scraping is Illegal since it is an example of \"Computer Fraud and Abuse\" and has led to \"Damage and Loss\" and \"Unauthorized Access\" of Southwest's site. It also constitutes \"Interference with Business Relations\", \"Trespass\", and \"Harmful Access by Computer\". They also claimed that screen-scraping constitutes what is legally known as \"Misappropriation and Unjust Enrichment\", as well as being a breach of the web site's user agreement. Outtask denied all these claims, claiming that the prevailing law in this case should be  US Copyright law , and that under copyright, the pieces of information being scraped would not be subject to copyright protection. Although the cases were never resolved in the  Supreme Court of the United States , FareChase was eventually shuttered by parent company  Yahoo! , and Outtask was purchased by travel expense company Concur.<sup class=\"reference\" id=\"cite_ref-impervawp2011_13-0\"> [13] </sup>\n",
      "In 2012, a startup called 3Taps scraped classified housing ads from Craigslist. Craigslist sent 3Taps a cease-and-desist letter and blocked their IP addresses and later sued, in <i> Craigslist v. 3Taps </i>. The court held that the cease-and-desist letter and IP blocking was sufficient for Craigslist to properly claim that 3Taps had violated the  Computer Fraud and Abuse Act .\n",
      "</p><p>Although these are early scraping decisions, and the theories of liability are not uniform, it is difficult to ignore a pattern emerging that the courts are prepared to protect proprietary content on commercial sites from uses which are undesirable to the owners of such sites. However, the degree of protection for such content is not settled, and will depend on the type of access made by the scraper, the amount of information accessed and copied, the degree to which the access adversely affects the site owner’s system and the types and manner of prohibitions on such conduct.<sup class=\"reference\" id=\"cite_ref-14\"> [14] </sup>\n",
      "</p><p>While the law in this area becomes more settled, entities contemplating using scraping programs to access a public web site should also consider whether such action is authorized by reviewing the terms of use and other terms or notices posted on or made available through the site. In a 2010 ruling in the <i> Cvent, Inc.  v.  Eventbrite, Inc. </i> In the United States district court for the eastern district of Virginia, the court ruled that the terms of use should be brought to the users' attention In order for a  browse wrap  contract or license to be enforced.<sup class=\"reference\" id=\"cite_ref-15\"> [15] </sup> In a 2014, filed in the  United States District Court for the Eastern District of Pennsylvania ,<sup class=\"reference\" id=\"cite_ref-16\"> [16] </sup> e-commerce site  QVC  objected to the Pinterest-like shopping aggregator Resultly’s `scraping of QVC’s site for real-time pricing data. QVC alleges that Resultly “excessively crawled” QVC’s retail site (allegedly sending 200-300 search requests to QVC’s website per minute, sometimes to up to 36,000 requests per minute) which caused QVC's site to crash for two days, resulting in lost sales for QVC.<sup class=\"reference\" id=\"cite_ref-17\"> [17] </sup> QVC's complaint alleges that the defendant disguised its web crawler to mask its source IP address and thus prevented QVC from quickly repairing the problem. This is a particularly interesting scraping case because QVC is seeking damages for the unavailability of their website, which QVC claims was caused by Resultly.\n",
      "</p><p>In the plaintiff's web site during the period of this trial the terms of use link is displayed among all the links of the site, at the bottom of the page as most sites on the internet. This ruling contradicts the Irish ruling described below. The court also rejected the plaintiff's argument that the browse wrap restrictions were enforceable in view of Virginia's adoption of the Uniform Computer Information Transactions Act (UCITA)—a uniform law that many believed was in favor on common browse wrap contracting practices.<sup class=\"reference\" id=\"cite_ref-18\"> [18] </sup>\n",
      "</p><p>In <i> Facebook, Inc. v. Power Ventures, Inc. </i>, a district court ruled in 2012 that Power Ventures could not scrape Facebook pages on behalf of a Facebook user. The case is on appeal, and the  Electronic Frontier Foundation  filed a brief in 2015 asking that it be overturned.<sup class=\"reference\" id=\"cite_ref-19\"> [19] </sup><sup class=\"reference\" id=\"cite_ref-20\"> [20] </sup> In <i> Associated Press v. Meltwater U.S. Holdings, Inc. </i>, a court in the US held Meltwater liable for scraping and republishing news information from the Associated Press, but a court in the United Kingdom held in favor of Meltwater.\n",
      "</p><p>Internet Archive collects and distributes significant number of publicly available webpages without it is considered to be copyright violation.\n",
      "</p><p>In February 2006, the Danish Maritime and Commercial Court (Copenhagen) ruled that systematic crawling, indexing, and deep linking by portal site ofir.dk of estate site Home.dk does not conflict with Danish law or the database directive of the European Union.<sup class=\"reference\" id=\"cite_ref-21\"> [21] </sup>\n",
      "</p><p>In a February 2010 case complicated by matters of jurisdiction, Ireland's High Court delivered a verdict that illustrates the  inchoate  state of developing case law. In the case of <i>Ryanair Ltd v Billigfluege.de GmbH</i>, Ireland's High Court ruled  Ryanair's  \"click-wrap\" agreement to be legally binding. In contrast to the findings of the United States District Court Eastern District of Virginia and those of the Danish Maritime and Commercial Court, Justice Michael Hanna ruled that the hyperlink to Ryanair's terms and conditions was plainly visible, and that placing the onus on the user to agree to terms and conditions in order to gain access to online services is sufficient to comprise a contractual relationship.\n",
      "<sup class=\"reference\" id=\"cite_ref-22\"> [22] </sup> The decision is under appeal in Ireland's Supreme Court.<sup class=\"reference\" id=\"cite_ref-23\"> [23] </sup>\n",
      "</p><p>In Australia, the  Spam Act 2003  outlaws some forms of web harvesting, although this only applies to email addresses.<sup class=\"reference\" id=\"cite_ref-24\"> [24] </sup><sup class=\"reference\" id=\"cite_ref-25\"> [25] </sup>\n",
      "</p><p>The administrator of a website can use various measures to stop or slow a bot. Some techniques include:\n",
      "</p>\n"
     ]
    }
   ],
   "source": [
    "print(ParseSoup)"
   ]
  },
  {
   "cell_type": "markdown",
   "metadata": {},
   "source": [
    "Therefore this could be expanded to encompass whatever tags you wish to remove. All that is need is to add additional if statements for the desired tags in the while loop. "
   ]
  },
  {
   "cell_type": "markdown",
   "metadata": {},
   "source": [
    "### Saving into Text File\n",
    "\n",
    "Unlike how it was done eariler, there is some slight alteration that need to be done in order to save this new version. The reason for this is in the previous example we used a prebuilt method that stripped all the tags, however in this case we only removed two (the \"a\" and \"b\" tag)"
   ]
  },
  {
   "cell_type": "code",
   "execution_count": 45,
   "metadata": {
    "collapsed": true
   },
   "outputs": [],
   "source": [
    "# Open a text file to save it into (if it doesn't exist it will create one)\n",
    "outputfile = open( 'selectiveCleanHTML.txt', 'w' )\n",
    "\n",
    "# For every item we declared eariler in wikiContent\n",
    "for item in ParseSoup:\n",
    "    \n",
    "    # Convert the objects to string so we can write it to file\n",
    "    outputfile.write(str(item) + \" \\n\")\n",
    "\n",
    "# Close the file\n",
    "outputfile.close()"
   ]
  }
 ],
 "metadata": {
  "kernelspec": {
   "display_name": "Python 3",
   "language": "python",
   "name": "python3"
  },
  "language_info": {
   "codemirror_mode": {
    "name": "ipython",
    "version": 3
   },
   "file_extension": ".py",
   "mimetype": "text/x-python",
   "name": "python",
   "nbconvert_exporter": "python",
   "pygments_lexer": "ipython3",
   "version": "3.6.4"
  }
 },
 "nbformat": 4,
 "nbformat_minor": 2
}
