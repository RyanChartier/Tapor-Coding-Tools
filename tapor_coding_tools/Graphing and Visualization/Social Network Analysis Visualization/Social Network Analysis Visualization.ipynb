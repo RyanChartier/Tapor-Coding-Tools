{
 "cells": [
  {
   "cell_type": "markdown",
   "metadata": {},
   "source": [
    "# Social network analysis\n",
    "\n",
    "There are many different ways to visualize social networks or connections between data points. In this notebook we will be looking at a few different ways to visualize a social network and how to manipulate our graph.\n",
    "\n",
    "## Libraries and Resources used\n",
    "\n",
    "-  Python 3\n",
    "-  matplotlib\n",
    "-  pandas\n",
    "-  networkx\n",
    "\n",
    "## Note:\n",
    "\n",
    "For installation of the nessesary resources and libraries refer to their respective home page for installation steps for your operation system.\n",
    "\n",
    "\n",
    "Written in November 2018"
   ]
  },
  {
   "cell_type": "markdown",
   "metadata": {},
   "source": [
    "## CSV as Input\n",
    "\n",
    "CSV stands for comma seperated values, it is simple file format used to store tabular data. It a format that is support by many different type of databases and excel to name a few. In this notebook we will be using 2 dummy CSV. These CSV will mimic a small social network, with a few names and their connections. Before we move forward we need to disucss some aspects of a graph of this nature.\n",
    "\n",
    "First is the concepts of Nodes and Edges. Think of nodes as points of interest, whether they are people, places, event, etc. The second is edges, these are the connections between nodes. They are used to indicate some form of relationship between nodes whether that be friendship, part of, etc.\n",
    "\n",
    "The two CSV represent one of these aspect.\n",
    "\n",
    "The first CSV called \"networkNode.csv\" contains:\n",
    "* name\n",
    "* group\n",
    "* nodeSize\n",
    "\n",
    "In this example it represents a person in our network (node)\n",
    "\n",
    "The second CSV called \"networkEdge.csv\" contains:\n",
    "* source\n",
    "* target\n",
    "* value\n",
    "\n",
    "In this example this represents the connection between people and the value of that relationship"
   ]
  },
  {
   "cell_type": "markdown",
   "metadata": {},
   "source": [
    "## Importing all the required Libraries\n",
    "\n",
    "Before we being we will import all the required libraries for the notebook"
   ]
  },
  {
   "cell_type": "code",
   "execution_count": null,
   "metadata": {
    "collapsed": true
   },
   "outputs": [],
   "source": [
    "# Importing libraries\n",
    "import networkx as nx\n",
    "import matplotlib.pyplot as plt\n",
    "import pandas as pd\n",
    "\n",
    "# Ensures graphs display in notebook\n",
    "%matplotlib inline"
   ]
  },
  {
   "cell_type": "markdown",
   "metadata": {},
   "source": [
    "We first will declare a graph and read in the two CSVs "
   ]
  },
  {
   "cell_type": "code",
   "execution_count": 3,
   "metadata": {
    "collapsed": true
   },
   "outputs": [],
   "source": [
    "# Declare the graph\n",
    "Networkgraph = nx.Graph(day=\"Some Title?\")\n",
    "\n",
    "# Load in the graph nodes and edges\n",
    "Networkgraph_nodes = pd.read_csv('./networkNode.csv')\n",
    "Networkgraph_edges = pd.read_csv('./networkEdge.csv')"
   ]
  },
  {
   "cell_type": "markdown",
   "metadata": {},
   "source": [
    "Now that we initialized the graph and loaded in the required data, we can begin populating our graph. This is done by interating through all the different nodes and edges and adding them into the graph"
   ]
  },
  {
   "cell_type": "code",
   "execution_count": 24,
   "metadata": {
    "collapsed": true
   },
   "outputs": [],
   "source": [
    "# Adding the nodes to the graph\n",
    "for index, row in Networkgraph_nodes.iterrows():\n",
    "    Networkgraph.add_node(row['name'], group=row['group'], nodeSize=row['nodeSize'])\n",
    "\n",
    "# Adding the edges to the graph    \n",
    "for index, row in Networkgraph_edges.iterrows():\n",
    "    Networkgraph.add_weighted_edges_from([(row['source'], row['target'], row['value'])])"
   ]
  },
  {
   "cell_type": "markdown",
   "metadata": {},
   "source": [
    "If you recalled from before, each node has a \"group\" assoicated to them. To help illistrate these groups we can assign them a colour, therefore making these groups more apparent when we display our graph. In addition we can also manipulate other factors about the graph such as font or edge colour."
   ]
  },
  {
   "cell_type": "code",
   "execution_count": 7,
   "metadata": {},
   "outputs": [
    {
     "data": {
      "text/plain": [
       "<matplotlib.figure.Figure at 0x7f402d23f748>"
      ]
     },
     "metadata": {},
     "output_type": "display_data"
    }
   ],
   "source": [
    "# Colour each node of a group by a given colour     \n",
    "color_map = {1:'#d2f5f0', 2:'#eebcbc', 3:'#72bbd0'} \n",
    "\n",
    "# The size of our graph\n",
    "plt.figure(figsize=(25,25))\n",
    "\n",
    "# Different option setting (full list see: https://networkx.github.io/documentation/networkx-1.10/reference/generated/networkx.drawing.nx_pylab.draw_networkx.html#networkx.drawing.nx_pylab.draw_networkx )\n",
    "options = {\n",
    "    'edge_color': '#000000',  #Changes the connecting line colour\n",
    "    'width': 1,               #Width of line\n",
    "    'with_labels': True,      #Enable labels\n",
    "    'font_weight': 'regular', #Normal Font\n",
    "}\n",
    "\n",
    "# Assign the colours to the map\n",
    "colors = [color_map[Networkgraph.node[node]['group']] for node in Networkgraph]\n",
    "\n",
    "# Assign the size for the nodes \n",
    "sizes = [Networkgraph.node[node]['nodeSize']*10 for node in Networkgraph]"
   ]
  },
  {
   "cell_type": "markdown",
   "metadata": {},
   "source": [
    "Now that all the options for our graph is completed, we can can display our graph. It is important to know we are using \"nx.spring_layout\" which uses \"k\" (0-1) to determine distance between nodes and how many interation it uses to generate the graph"
   ]
  },
  {
   "cell_type": "code",
   "execution_count": 20,
   "metadata": {},
   "outputs": [
    {
     "data": {
      "image/png": "[encoded data removed]",
      "text/plain": [
       "<matplotlib.figure.Figure at 0x7f40255551d0>"
      ]
     },
     "metadata": {},
     "output_type": "display_data"
    }
   ],
   "source": [
    "# Draws the Graph\n",
    "nx.draw(Networkgraph, node_color=colors, node_size=sizes, pos=nx.spring_layout(Networkgraph, k=0.25, iterations=50), **options)"
   ]
  },
  {
   "cell_type": "markdown",
   "metadata": {},
   "source": [
    "## Conclusion\n",
    "\n",
    "As you can see what we demostrated uses a small dataset, however this graph can be used to map a large amount of data as seen here:\n",
    "\n",
    "https://app.dominodatalab.com/u/LeJit/FacebookNetwork/view/results/SocialNetwork.html\n",
    "https://www.kaggle.com/jncharon/python-network-graph/notebook\n",
    "\n",
    "This notebook in particular is to serve as a more introductory notebook into social network graph. Providing a simple and fast way to graph you data. For more complex graph see the documentation for networkx for full options and tools you can play with (in addition to the resources present here)."
   ]
  },
  {
   "cell_type": "code",
   "execution_count": null,
   "metadata": {
    "collapsed": true
   },
   "outputs": [],
   "source": []
  }
 ],
 "metadata": {
  "kernelspec": {
   "display_name": "Python 3",
   "language": "python",
   "name": "python3"
  },
  "language_info": {
   "codemirror_mode": {
    "name": "ipython",
    "version": 3
   },
   "file_extension": ".py",
   "mimetype": "text/x-python",
   "name": "python",
   "nbconvert_exporter": "python",
   "pygments_lexer": "ipython3",
   "version": "3.6.6"
  }
 },
 "nbformat": 4,
 "nbformat_minor": 2
}
